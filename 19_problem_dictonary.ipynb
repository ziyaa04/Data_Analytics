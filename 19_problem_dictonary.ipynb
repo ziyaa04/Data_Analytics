{
 "cells": [
  {
   "cell_type": "markdown",
   "id": "65f5ebfe-4a1b-48d8-89bd-79ed3678ca97",
   "metadata": {},
   "source": [
    "### Python Dictionaries - Practice Questions\n",
    "1. Create a dictionary named student with keys: \"name\", \"age\", and \"grade\" having values \"Alice\", 20, and \"A\" respectively."
   ]
  },
  {
   "cell_type": "code",
   "execution_count": 7,
   "id": "0329b0b2-7150-4290-86c4-0d8b534ea5db",
   "metadata": {},
   "outputs": [
    {
     "name": "stdout",
     "output_type": "stream",
     "text": [
      "{'name': 'Alice', 'age': 20, 'grade': 'A'}\n"
     ]
    }
   ],
   "source": [
    "student = {\n",
    "    \"name\": \"Alice\",\n",
    "    \"age\": 20,\n",
    "    \"grade\": \"A\"\n",
    "}\n",
    "\n",
    "# Print the dictionary to verify\n",
    "print(student)\n"
   ]
  },
  {
   "cell_type": "markdown",
   "id": "f46f072f-b1f2-49bb-93f7-d7d872c2b022",
   "metadata": {},
   "source": [
    "### 2. Add a new key \"subject\" with the value \"Math\" to the student dictionary.\n"
   ]
  },
  {
   "cell_type": "code",
   "execution_count": 5,
   "id": "824d2b5a-a60d-409f-a757-a18f6fd0040c",
   "metadata": {},
   "outputs": [
    {
     "name": "stdout",
     "output_type": "stream",
     "text": [
      "{'name': 'Alice', 'age': 20, 'grade': 'A', 'subject': 'Math'}\n"
     ]
    }
   ],
   "source": [
    "# Add the new key \"subject\" to the dictionary\n",
    "student[\"subject\"] = \"Math\"\n",
    "\n",
    "# Print the updated dictionary to verify\n",
    "print(student)\n"
   ]
  },
  {
   "cell_type": "markdown",
   "id": "1109b152-cc81-40d3-8f8a-23b8560bddc3",
   "metadata": {},
   "source": [
    "### 3. Update the \"grade\" key in the student dictionary to \"A+\".\n"
   ]
  },
  {
   "cell_type": "code",
   "execution_count": 10,
   "id": "1cc6888a-d91b-4d6b-959e-0af46d3841d2",
   "metadata": {},
   "outputs": [
    {
     "name": "stdout",
     "output_type": "stream",
     "text": [
      "{'name': 'Alice', 'age': 20, 'grade': 'A+'}\n"
     ]
    }
   ],
   "source": [
    "# Update the value of the \"grade\" key\n",
    "student[\"grade\"] = \"A+\"\n",
    "\n",
    "# Print the updated dictionary to verify\n",
    "print(student)\n"
   ]
  },
  {
   "cell_type": "markdown",
   "id": "d3db0d81-a7f6-4950-adb8-08c6873f6def",
   "metadata": {},
   "source": [
    "### 4. Remove the key \"age\" from the student dictionary.\n"
   ]
  },
  {
   "cell_type": "code",
   "execution_count": 13,
   "id": "f92333b7-6c34-4472-8a2b-99184144cf63",
   "metadata": {},
   "outputs": [
    {
     "name": "stdout",
     "output_type": "stream",
     "text": [
      "{'name': 'Alice', 'grade': 'A+'}\n"
     ]
    }
   ],
   "source": [
    "# Remove the \"age\" key from the dictionary\n",
    "del student[\"age\"]\n",
    "\n",
    "# Print the updated dictionary to verify\n",
    "print(student)\n"
   ]
  },
  {
   "cell_type": "markdown",
   "id": "54627ceb-e0d6-4ec1-8a6f-5def4cd49284",
   "metadata": {},
   "source": [
    "### 5. Create two dictionaries:\n",
    "dict1 = {\"a\": 1, \"b\": 2, \"c\": 3}\n",
    "dict2 = {\"c\": 4, \"d\": 5, \"e\": 6}\n",
    "Merge dict2 into dict1."
   ]
  },
  {
   "cell_type": "code",
   "execution_count": 16,
   "id": "86dcbd2d-fc2b-499f-8442-7c1a56fcaa9e",
   "metadata": {},
   "outputs": [
    {
     "name": "stdout",
     "output_type": "stream",
     "text": [
      "{'a': 1, 'b': 2, 'c': 4, 'd': 5, 'e': 6}\n"
     ]
    }
   ],
   "source": [
    "# Define the dictionaries\n",
    "dict1 = {\"a\": 1, \"b\": 2, \"c\": 3}\n",
    "dict2 = {\"c\": 4, \"d\": 5, \"e\": 6}\n",
    "\n",
    "# Merge dict2 into dict1\n",
    "dict1.update(dict2)\n",
    "\n",
    "# Print the updated dict1 to verify\n",
    "print(dict1)\n",
    "\n"
   ]
  },
  {
   "cell_type": "markdown",
   "id": "017c705f-51fe-4c6d-a817-c726f69d7144",
   "metadata": {},
   "source": [
    "### 6. Check if the key \"name\" exists in the student dictionary.\n"
   ]
  },
  {
   "cell_type": "code",
   "execution_count": 19,
   "id": "1837379f-6efc-425c-ac83-3391c68a17d9",
   "metadata": {},
   "outputs": [
    {
     "name": "stdout",
     "output_type": "stream",
     "text": [
      "The key 'name' exists in the student dictionary.\n"
     ]
    }
   ],
   "source": [
    "# Check if the key \"name\" exists in the student dictionary\n",
    "if \"name\" in student:\n",
    "    print(\"The key 'name' exists in the student dictionary.\")\n",
    "else:\n",
    "    print(\"The key 'name' does not exist in the student dictionary.\")\n"
   ]
  },
  {
   "cell_type": "markdown",
   "id": "5884c0db-7973-4f00-824d-b33d93457713",
   "metadata": {},
   "source": [
    "### 7. Iterate over the student dictionary and print both keys and values.\n"
   ]
  },
  {
   "cell_type": "code",
   "execution_count": 22,
   "id": "e00a4f83-8349-49c5-9b60-fd612ea51d17",
   "metadata": {},
   "outputs": [
    {
     "name": "stdout",
     "output_type": "stream",
     "text": [
      "name: Alice\n",
      "grade: A+\n"
     ]
    }
   ],
   "source": [
    "# Iterate over the student dictionary and print both keys and values\n",
    "for key, value in student.items():\n",
    "    print(f\"{key}: {value}\")\n"
   ]
  },
  {
   "cell_type": "markdown",
   "id": "1cbcbac4-7b55-4a84-a0a2-ed1bc70f7cd0",
   "metadata": {},
   "source": [
    "### 8. Get the value of the key \"grade\" from student using the get() method.\n"
   ]
  },
  {
   "cell_type": "code",
   "execution_count": 25,
   "id": "871334bf-3c9a-467a-93be-7d0269672ec5",
   "metadata": {},
   "outputs": [
    {
     "name": "stdout",
     "output_type": "stream",
     "text": [
      "The value of 'grade' is: A+\n"
     ]
    }
   ],
   "source": [
    "# Get the value of the key \"grade\" using the get() method\n",
    "grade_value = student.get(\"grade\")\n",
    "\n",
    "# Print the retrieved value\n",
    "print(f\"The value of 'grade' is: {grade_value}\")\n"
   ]
  },
  {
   "cell_type": "markdown",
   "id": "2c3a6486-3de4-40f4-8dec-6e23c0d29497",
   "metadata": {},
   "source": [
    "### 9. Create a dictionary with nested dictionaries representing a library with books and their authors."
   ]
  },
  {
   "cell_type": "code",
   "execution_count": 28,
   "id": "f121d4ab-1238-4521-9983-58c43fe1c034",
   "metadata": {},
   "outputs": [
    {
     "name": "stdout",
     "output_type": "stream",
     "text": [
      "{'book1': {'title': 'To Kill a Mockingbird', 'author': 'Harper Lee'}, 'book2': {'title': '1984', 'author': 'George Orwell'}, 'book3': {'title': 'Moby Dick', 'author': 'Herman Melville'}, 'book4': {'title': 'The Great Gatsby', 'author': 'F. Scott Fitzgerald'}}\n"
     ]
    }
   ],
   "source": [
    "# Create a nested dictionary representing a library with books and authors\n",
    "library = {\n",
    "    \"book1\": {\n",
    "        \"title\": \"To Kill a Mockingbird\",\n",
    "        \"author\": \"Harper Lee\"\n",
    "    },\n",
    "    \"book2\": {\n",
    "        \"title\": \"1984\",\n",
    "        \"author\": \"George Orwell\"\n",
    "    },\n",
    "    \"book3\": {\n",
    "        \"title\": \"Moby Dick\",\n",
    "        \"author\": \"Herman Melville\"\n",
    "    },\n",
    "    \"book4\": {\n",
    "        \"title\": \"The Great Gatsby\",\n",
    "        \"author\": \"F. Scott Fitzgerald\"\n",
    "    }\n",
    "}\n",
    "\n",
    "# Print the library dictionary to verify\n",
    "print(library)\n"
   ]
  },
  {
   "cell_type": "markdown",
   "id": "0e6ee698-5dc6-48e2-b315-8fd1572d5272",
   "metadata": {},
   "source": [
    "### 10. Convert the keys of student dictionary into a list and print it.\n"
   ]
  },
  {
   "cell_type": "code",
   "execution_count": 31,
   "id": "218b3f04-acac-419a-9ccc-2b8fa538a876",
   "metadata": {},
   "outputs": [
    {
     "name": "stdout",
     "output_type": "stream",
     "text": [
      "['name', 'grade']\n"
     ]
    }
   ],
   "source": [
    "# Convert the keys of the student dictionary into a list\n",
    "keys_list = list(student.keys())\n",
    "\n",
    "# Print the list of keys\n",
    "print(keys_list)\n"
   ]
  },
  {
   "cell_type": "markdown",
   "id": "2f0894a6-4bf9-4225-8241-258b83e8a200",
   "metadata": {},
   "source": [
    "### 11. Convert the values of student dictionary into a list and print it.\n"
   ]
  },
  {
   "cell_type": "code",
   "execution_count": 34,
   "id": "aaddf9e1-4ab2-48a7-b876-6e3932700a41",
   "metadata": {},
   "outputs": [
    {
     "name": "stdout",
     "output_type": "stream",
     "text": [
      "['Alice', 'A+']\n"
     ]
    }
   ],
   "source": [
    "# Convert the values of the student dictionary into a list\n",
    "values_list = list(student.values())\n",
    "\n",
    "# Print the list of values\n",
    "print(values_list)\n"
   ]
  },
  {
   "cell_type": "markdown",
   "id": "99bf8f1a-a66b-44fc-ad70-99e00ccda8eb",
   "metadata": {},
   "source": [
    "### 12. Create a dictionary from two lists:\n",
    "keys = [\"name\", \"age\", \"city\"]\n",
    "values = [\"Bob\", 25, \"New York\"]\n",
    "Convert them into a dictionary and print the result.\n",
    "\n"
   ]
  },
  {
   "cell_type": "code",
   "execution_count": 37,
   "id": "f4ee9542-3d90-4ca2-b9dc-0f285f112c43",
   "metadata": {},
   "outputs": [
    {
     "name": "stdout",
     "output_type": "stream",
     "text": [
      "{'name': 'Bob', 'age': 25, 'city': 'New York'}\n"
     ]
    }
   ],
   "source": [
    "# Lists of keys and values\n",
    "keys = [\"name\", \"age\", \"city\"]\n",
    "values = [\"Bob\", 25, \"New York\"]\n",
    "\n",
    "# Create a dictionary from the two lists\n",
    "result_dict = dict(zip(keys, values))\n",
    "\n",
    "# Print the resulting dictionary\n",
    "print(result_dict)\n"
   ]
  },
  {
   "cell_type": "code",
   "execution_count": null,
   "id": "e4795ee4-a249-44f7-80aa-70ad3f364351",
   "metadata": {},
   "outputs": [],
   "source": []
  }
 ],
 "metadata": {
  "kernelspec": {
   "display_name": "Python [conda env:base] *",
   "language": "python",
   "name": "conda-base-py"
  },
  "language_info": {
   "codemirror_mode": {
    "name": "ipython",
    "version": 3
   },
   "file_extension": ".py",
   "mimetype": "text/x-python",
   "name": "python",
   "nbconvert_exporter": "python",
   "pygments_lexer": "ipython3",
   "version": "3.12.7"
  }
 },
 "nbformat": 4,
 "nbformat_minor": 5
}
