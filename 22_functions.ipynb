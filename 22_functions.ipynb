{
 "cells": [
  {
   "cell_type": "markdown",
   "id": "727cebbb-caca-4475-98bd-42e7845e9ea1",
   "metadata": {},
   "source": [
    "### 🎈Funtions\n",
    "🍭basic\n"
   ]
  },
  {
   "cell_type": "code",
   "execution_count": 2,
   "id": "fd54ce88-8aa7-49c3-8f70-1b57ff81ed91",
   "metadata": {},
   "outputs": [
    {
     "name": "stdout",
     "output_type": "stream",
     "text": [
      "It's working\n"
     ]
    }
   ],
   "source": [
    "# define a function\n",
    "def its_working(input): \n",
    "    if(input):\n",
    "        print(\"It's working\")\n",
    "    else:\n",
    "        print(\"It's not working\")\n",
    "\n",
    "#call the function using-> ()\n",
    "its_working(True)"
   ]
  },
  {
   "cell_type": "markdown",
   "id": "2df6e462-4386-4d01-996d-cae1a7ac3bf1",
   "metadata": {},
   "source": [
    "### 🍭Function arguments\n"
   ]
  },
  {
   "cell_type": "code",
   "execution_count": 7,
   "id": "e0c4b2cd-5a7b-4410-9d75-330c53d7e4dc",
   "metadata": {},
   "outputs": [
    {
     "name": "stdout",
     "output_type": "stream",
     "text": [
      "jake joseph \n",
      "jake joseph\n",
      "jake joseph\n",
      "Hello, jake joseph paul\n",
      "jake joseph paul "
     ]
    }
   ],
   "source": [
    "#DEFAULT ARGUMENTS\n",
    "\n",
    "#if we did not provide the default values then the arguments becomes required\n",
    "def print_full_name(fname=\"ana\", mname= \"de\",lname=\"armas\"): \n",
    "    print(f\"hello, {fname} {mname} {lname}\")\n",
    "\n",
    "# print_full_name(\"jake\",\"joseph\",\"paul\")\n",
    "# print_full_name(\"jake\")\n",
    "\n",
    "#KEYWORD ARGUMENTS\n",
    "\n",
    "# print_full_name(lname = \"paul\",fname=\"jake\")\n",
    "# print_full_name(\"paul\",\"jake\")\n",
    "\n",
    "#VARIABLE-LENGTH-ARGUMENTS\n",
    "\n",
    "#1:ARBITRARY ARGUMENTS\n",
    "\n",
    "def print_name(*name):\n",
    "#     print(name[0],name[1],name[2]) # error prone\n",
    "    statement = \"\"\n",
    "    for i in name:\n",
    "        statement+=i\n",
    "        statement+=\" \"\n",
    "    print(statement)\n",
    "    print(*name[:3]) #using unpacking operator\n",
    "    print(\" \".join(name))\n",
    "print_name(\"jake\",\"joseph\" )\n",
    "\n",
    "#2:KEYWORD ARBITRARY ARGUMENT\n",
    "\n",
    "def print_name2(**name):\n",
    "    print(\"Hello,\", name.get(\"fname\", \"Unknown\"), name.get(\"mname\", \"\"), name.get(\"lname\", \"Unknown\"))\n",
    "#     print(*name) #here we are unpacking the dictionary\n",
    "    for i in name.values():\n",
    "        print(i,end=\" \")\n",
    "print_name2(fname=\"jake\",mname=\"joseph\",lname=\"paul\")\n",
    "\n",
    "#if we want to put both *args and **kwargs first should be *args"
   ]
  },
  {
   "cell_type": "markdown",
   "id": "80ef491b-e2bd-4910-8656-9a4734582c64",
   "metadata": {},
   "source": [
    "### 🍭 Recursion in python\n"
   ]
  },
  {
   "cell_type": "code",
   "execution_count": 10,
   "id": "9f7a1acf-11ab-4d3c-b2ae-c27b0b2adb52",
   "metadata": {},
   "outputs": [
    {
     "name": "stdout",
     "output_type": "stream",
     "text": [
      "6\n"
     ]
    }
   ],
   "source": [
    "#Make the function to find factorial of number\n",
    "def fact_num(num):\n",
    "    if(num ==1 or num ==0):\n",
    "        return num\n",
    "    else:\n",
    "        return num * fact_num(num-1)\n",
    "\n",
    "print(fact_num(3))"
   ]
  },
  {
   "cell_type": "code",
   "execution_count": null,
   "id": "89cd10ca-7ee7-49bf-8545-27f15670066b",
   "metadata": {},
   "outputs": [],
   "source": []
  }
 ],
 "metadata": {
  "kernelspec": {
   "display_name": "Python [conda env:base] *",
   "language": "python",
   "name": "conda-base-py"
  },
  "language_info": {
   "codemirror_mode": {
    "name": "ipython",
    "version": 3
   },
   "file_extension": ".py",
   "mimetype": "text/x-python",
   "name": "python",
   "nbconvert_exporter": "python",
   "pygments_lexer": "ipython3",
   "version": "3.12.7"
  }
 },
 "nbformat": 4,
 "nbformat_minor": 5
}
