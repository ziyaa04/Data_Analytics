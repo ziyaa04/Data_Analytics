{
 "cells": [
  {
   "cell_type": "markdown",
   "id": "26d795b2-ce60-4290-a6cd-206e2ae37c20",
   "metadata": {},
   "source": [
    "### Variables in python"
   ]
  },
  {
   "cell_type": "code",
   "execution_count": 2,
   "id": "22948fb8-eab4-44bd-b81c-51afd0aabe11",
   "metadata": {},
   "outputs": [],
   "source": [
    "#Primitive Variables\n",
    "var1 = \"this is a string\" #string\n",
    "var2 = 12 #number\n",
    "var3 = True #boolean\n",
    "var4 = None #This is act as a placeholder if you want to put this anywhere before any variable comes in"
   ]
  },
  {
   "cell_type": "code",
   "execution_count": 4,
   "id": "04c581f2-3bd3-4439-9e87-a7b3733990bd",
   "metadata": {},
   "outputs": [],
   "source": [
    "#sequenced variables\n",
    "var5 = [\"place\", 12, True] #List\n",
    "var6 = {\"name\":\"t-rex\",\"age\":10000} #dictionary\n",
    "var7 = {1,2,3,4,5} #set\n",
    "var8 = range(0,10,2)\n",
    "var9 = (1,2,3,4) #tuple\n",
    "# print(var8)\n",
    "for i in var8:\n",
    "    pass"
   ]
  },
  {
   "cell_type": "code",
   "execution_count": 6,
   "id": "7ac512f6-249f-4a9a-9c91-8dcb59e0c5bf",
   "metadata": {},
   "outputs": [
    {
     "name": "stdout",
     "output_type": "stream",
     "text": [
      "Alice is 25 years old\n",
      "Person('Alice', 25)\n",
      "Alice is 25 years old\n"
     ]
    }
   ],
   "source": [
    "#Naming convention\n",
    "# variables(snake_case) \n",
    "first_name = \"ganesh\"\n",
    "\n",
    "# Class name(PascalCase)\n",
    "class DoStuff:\n",
    "    pass\n",
    "\n",
    "# constants\n",
    "\n",
    "USER_LIST = [\"tim\", \"jake\",\"mishashi\"]\n",
    "\n",
    "# magic methods or special methods in python syntax used to defined how object of class will behave with built in method\n",
    "\n",
    "class Person:\n",
    "    def __init__(self, name, age):\n",
    "        self.name = name\n",
    "        self.age = age\n",
    "\n",
    "    def __str__(self):\n",
    "        return f\"{self.name} is {self.age} years old\"\n",
    "\n",
    "    def __repr__(self):\n",
    "        return f\"Person('{self.name}', {self.age})\"\n",
    "\n",
    "p = Person(\"Alice\", 25)\n",
    "print(str(p))\n",
    "class Person:\n",
    "    def __init__(self, name, age):\n",
    "        self.name = name\n",
    "        self.age = age\n",
    "\n",
    "    def __str__(self):\n",
    "        return f\"{self.name} is {self.age} years old\"\n",
    "\n",
    "    def __repr__(self):\n",
    "        return f\"Person('{self.name}', {self.age})\"\n",
    "\n",
    "p = Person(\"Alice\", 25)\n",
    "print(repr(p))\n",
    "print(p)"
   ]
  },
  {
   "cell_type": "code",
   "execution_count": 8,
   "id": "cfac4d7c-d48e-46e0-80c9-717e63e19074",
   "metadata": {},
   "outputs": [
    {
     "name": "stdout",
     "output_type": "stream",
     "text": [
      "Thor will save the city\n"
     ]
    }
   ],
   "source": [
    "#Scope of variable\n",
    "#Global scope\n",
    "hero = \"Iron Man\"\n",
    "def saveCity():\n",
    "    print(f\"{hero} will save the city\")\n",
    "# saveCity()\n",
    "\n",
    "#Block Scope\n",
    "def saveCity2():\n",
    "    hero = \"Thor\"\n",
    "    print(f\"{hero} will save the city\")\n",
    "\n",
    "saveCity2()\n",
    "# we can use global keyword in order to declare the variable inside a block global"
   ]
  },
  {
   "cell_type": "code",
   "execution_count": 10,
   "id": "5971e7e6-05b8-430e-a0c2-126872b847a2",
   "metadata": {},
   "outputs": [
    {
     "name": "stdout",
     "output_type": "stream",
     "text": [
      "Thor will save the city\n"
     ]
    }
   ],
   "source": [
    "#Scope of variable\n",
    "#Global scope\n",
    "hero = \"Iron Man\"\n",
    "def saveCity():\n",
    "    print(f\"{hero} will save the city\")\n",
    "# saveCity()\n",
    "\n",
    "#Block Scope\n",
    "def saveCity2():\n",
    "    hero = \"Thor\"\n",
    "    print(f\"{hero} will save the city\")\n",
    "\n",
    "saveCity2()\n",
    "# we can use global keyword in order to declare the variable inside a block global"
   ]
  },
  {
   "cell_type": "markdown",
   "id": "36aec17d-5e59-47c9-99c3-54d93937f0d9",
   "metadata": {},
   "source": [
    "### Question 1:What is the difference between local and global variables in Python?"
   ]
  },
  {
   "cell_type": "code",
   "execution_count": 13,
   "id": "5d75c93b-d792-4f72-ac0f-bfcc29c8a41b",
   "metadata": {},
   "outputs": [],
   "source": [
    "#We can access global scope variable anywhere in our program but block scope variable is only accessed in that perticular block of code for example function body"
   ]
  },
  {
   "cell_type": "markdown",
   "id": "ce72972e-f554-4ae2-afe5-0af84f844065",
   "metadata": {},
   "source": [
    "### Question 2:What will happen if a local variable has the same name as a global variable?\n"
   ]
  },
  {
   "cell_type": "code",
   "execution_count": null,
   "id": "061a3962-4c7a-4827-80c6-eb819edead41",
   "metadata": {},
   "outputs": [],
   "source": []
  },
  {
   "cell_type": "markdown",
   "id": "76310c8a-a54a-4cab-8421-59ef10cf65dd",
   "metadata": {},
   "source": [
    "### Question 3:Explain the global keyword in Python. When would you use it?\n"
   ]
  },
  {
   "cell_type": "code",
   "execution_count": 18,
   "id": "e1bfaef0-af00-49a3-b45a-c8d75b411f3a",
   "metadata": {},
   "outputs": [
    {
     "name": "stdout",
     "output_type": "stream",
     "text": [
      "20\n",
      "10\n"
     ]
    }
   ],
   "source": [
    "x = 10\n",
    "\n",
    "def my_function():\n",
    "    x = 20\n",
    "    print(x)\n",
    "my_function()\n",
    "print(x)"
   ]
  },
  {
   "cell_type": "markdown",
   "id": "482b1000-db21-4648-8e97-6314da91d810",
   "metadata": {},
   "source": [
    "### Question 4:Predict the output"
   ]
  },
  {
   "cell_type": "code",
   "execution_count": 21,
   "id": "f35ebe4c-864c-437d-a7dd-348be5b53ee0",
   "metadata": {},
   "outputs": [
    {
     "name": "stdout",
     "output_type": "stream",
     "text": [
      "20\n",
      "10\n"
     ]
    }
   ],
   "source": [
    "x = 10\n",
    "\n",
    "def my_function():\n",
    "    x = 20\n",
    "    print(x)\n",
    "my_function()\n",
    "print(x)"
   ]
  },
  {
   "cell_type": "markdown",
   "id": "af437932-beff-4836-9460-4124060bba6c",
   "metadata": {},
   "source": [
    "### Question 5:What will be the output of the following code?"
   ]
  },
  {
   "cell_type": "code",
   "execution_count": 24,
   "id": "562eb4c9-35f6-46c5-a05d-c5cc32c7bf30",
   "metadata": {},
   "outputs": [
    {
     "name": "stdout",
     "output_type": "stream",
     "text": [
      "6\n"
     ]
    }
   ],
   "source": [
    "count = 5\n",
    "\n",
    "def increment():\n",
    "    global count\n",
    "    count += 1\n",
    "increment()\n",
    "print(count)"
   ]
  },
  {
   "cell_type": "markdown",
   "id": "30a1c152-c5a4-49c1-8e33-5403db6848ea",
   "metadata": {},
   "source": [
    "### Question 6:Identify the error in the following code:"
   ]
  },
  {
   "cell_type": "code",
   "execution_count": 29,
   "id": "7f078ecb-6469-4178-a1d6-5e575cf198f2",
   "metadata": {},
   "outputs": [
    {
     "name": "stdout",
     "output_type": "stream",
     "text": [
      "10\n"
     ]
    }
   ],
   "source": [
    "def calculate():\n",
    "    global total\n",
    "    total += 10 \n",
    "    print(total)\n",
    "\n",
    "total = 0\n",
    "calculate()"
   ]
  },
  {
   "cell_type": "markdown",
   "id": "2c06ec7f-33ce-4b64-aa81-e794f4744e31",
   "metadata": {},
   "source": [
    "### Question 7:Modify this code to use a global variable correctly"
   ]
  },
  {
   "cell_type": "code",
   "execution_count": 32,
   "id": "5fce5b7d-aa4a-4c70-9d2c-230dccfadcf9",
   "metadata": {},
   "outputs": [
    {
     "name": "stdout",
     "output_type": "stream",
     "text": [
      "150\n"
     ]
    }
   ],
   "source": [
    "def update_balance(amount):\n",
    "    global balance\n",
    "    balance = balance + amount\n",
    "\n",
    "balance = 100\n",
    "update_balance(50)\n",
    "print(balance)"
   ]
  },
  {
   "cell_type": "code",
   "execution_count": null,
   "id": "f71d4dd3-2371-4cc4-a39b-2dfb0312efea",
   "metadata": {},
   "outputs": [],
   "source": []
  }
 ],
 "metadata": {
  "kernelspec": {
   "display_name": "Python [conda env:base] *",
   "language": "python",
   "name": "conda-base-py"
  },
  "language_info": {
   "codemirror_mode": {
    "name": "ipython",
    "version": 3
   },
   "file_extension": ".py",
   "mimetype": "text/x-python",
   "name": "python",
   "nbconvert_exporter": "python",
   "pygments_lexer": "ipython3",
   "version": "3.12.7"
  }
 },
 "nbformat": 4,
 "nbformat_minor": 5
}
