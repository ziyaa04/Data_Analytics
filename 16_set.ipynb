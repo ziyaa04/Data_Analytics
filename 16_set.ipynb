{
 "cells": [
  {
   "cell_type": "markdown",
   "id": "87c95959-ab78-488b-9962-869259f3346a",
   "metadata": {},
   "source": [
    "### 🍭Adding in set"
   ]
  },
  {
   "cell_type": "code",
   "execution_count": 2,
   "id": "2ba834b7-0033-4f99-93c2-eb801f3d150d",
   "metadata": {},
   "outputs": [
    {
     "name": "stdout",
     "output_type": "stream",
     "text": [
      "{1, 2, 3, 4, 5, 6, 7}\n"
     ]
    }
   ],
   "source": [
    "set1 = {1,2,3,4}\n",
    "set1.add(5)\n",
    "list1 = [5,6,7]\n",
    "set1.update(list1)\n",
    "print(set1)"
   ]
  },
  {
   "cell_type": "markdown",
   "id": "de033f05-794c-4073-982c-9e74e18ae914",
   "metadata": {},
   "source": [
    "### 🍭Removing in set\n"
   ]
  },
  {
   "cell_type": "code",
   "execution_count": 5,
   "id": "9d3aa108-5a6d-4002-916e-d095e0d62dc6",
   "metadata": {},
   "outputs": [
    {
     "name": "stdout",
     "output_type": "stream",
     "text": [
      "{2, 3, 4}\n"
     ]
    }
   ],
   "source": [
    "set2 = {1,2,3,4}\n",
    "# set2.remove(4) #will raise the error in item is not present in set\n",
    "# set2.discard(4)# will not raise error in item is not present in set\n",
    "set2.pop() # will remove last item in set but set's are unordered\n",
    "print(set2)\n",
    "# set2.clear() #will clear all items in set\n",
    "# del set2 # will delete entire set"
   ]
  },
  {
   "cell_type": "markdown",
   "id": "51e9e1d1-aecc-43bb-9064-cb5ffeeef3e4",
   "metadata": {},
   "source": [
    "### 🍭set specific methods\n"
   ]
  },
  {
   "cell_type": "code",
   "execution_count": 26,
   "id": "068184bc-d9d3-40ec-adcf-5028e370a93b",
   "metadata": {},
   "outputs": [
    {
     "name": "stdout",
     "output_type": "stream",
     "text": [
      "{'bhutan', 'singapore', 'nepal', 'russia', 'japan', 'turkey'}\n",
      "{4, 5}\n",
      "{4, 5}\n",
      "{1, 2, 3, 6, 7, 8}\n",
      "{1, 2, 3, 6, 7, 8}\n",
      "{1, 2, 3}\n",
      "None\n",
      "{1, 2, 3}\n"
     ]
    }
   ],
   "source": [
    "set3 = {\"russia\",\"bhutan\",\"turkey\"}\n",
    "set4 = {\"nepal\",\"japan\",\"singapore\"}\n",
    "print(set4.union(set3))\n",
    "\n",
    "#common elements in set\n",
    "set5 ={1,2,3,4,5}\n",
    "set6 = {4,5,6,7,8}\n",
    "print(set5.intersection(set6))\n",
    "set5.intersection_update(set6)\n",
    "print(set5)\n",
    "set7 = {1,2,3,4,5}\n",
    "set8 = {4,5,6,7,8}\n",
    "print(set7.symmetric_difference(set8))\n",
    "set7.symmetric_difference_update(set8)\n",
    "print(set7)\n",
    "print(set7.difference(set8))\n",
    "print(set7.difference_update(set8))\n",
    "print(set7)"
   ]
  },
  {
   "cell_type": "code",
   "execution_count": 36,
   "id": "5b87387f-26e8-48e5-b032-09d1731fdb52",
   "metadata": {},
   "outputs": [
    {
     "name": "stdout",
     "output_type": "stream",
     "text": [
      "False\n",
      "False\n",
      "False\n",
      "True\n",
      "True\n"
     ]
    }
   ],
   "source": [
    "# Cheking items of sets\n",
    "\n",
    "cities = {\"Tokyo\", \"Madrid\", \"Berlin\", \"Delhi\"}\n",
    "cities2 = {\"Tokyo\", \"Seoul\", \"Kabul\", \"Madrid\"}\n",
    "print(cities.isdisjoint(cities2))\n",
    "\n",
    "cities = {\"Tokyo\", \"Madrid\", \"Berlin\", \"Delhi\"}\n",
    "cities2 = {\"Seoul\", \"Kabul\"}\n",
    "print(cities.issuperset(cities2))\n",
    "cities3 = {\"Seoul\", \"Madrid\",\"Kabul\"}\n",
    "print(cities.issuperset(cities3))\n",
    "\n",
    "cities = {\"Tokyo\", \"Madrid\", \"Berlin\", \"Delhi\"}\n",
    "cities2 = {\"Delhi\", \"Madrid\"}\n",
    "print(cities.issuperset(cities2))\n",
    "\n",
    "cities = {\"Tokyo\", \"Madrid\", \"Berlin\", \"Delhi\"}\n",
    "cities2 = {\"Delhi\", \"Madrid\"}\n",
    "print(cities2.issubset(cities))"
   ]
  },
  {
   "cell_type": "code",
   "execution_count": null,
   "id": "f3f1da7a-9882-4303-b938-6824b7f0623b",
   "metadata": {},
   "outputs": [],
   "source": []
  }
 ],
 "metadata": {
  "kernelspec": {
   "display_name": "Python [conda env:base] *",
   "language": "python",
   "name": "conda-base-py"
  },
  "language_info": {
   "codemirror_mode": {
    "name": "ipython",
    "version": 3
   },
   "file_extension": ".py",
   "mimetype": "text/x-python",
   "name": "python",
   "nbconvert_exporter": "python",
   "pygments_lexer": "ipython3",
   "version": "3.12.7"
  }
 },
 "nbformat": 4,
 "nbformat_minor": 5
}
