{
 "cells": [
  {
   "cell_type": "markdown",
   "id": "308ea89d-8ff0-4f84-8597-17ec01833ef2",
   "metadata": {},
   "source": [
    "### Arithmetic Operators\n"
   ]
  },
  {
   "cell_type": "code",
   "execution_count": 24,
   "id": "cde1f250-5a2e-4564-9d56-a04d829ebdc2",
   "metadata": {},
   "outputs": [
    {
     "name": "stdout",
     "output_type": "stream",
     "text": [
      "7\n",
      "24\n",
      "10\n",
      "1.2\n",
      "200\n",
      "4\n",
      "1\n",
      "1\n"
     ]
    }
   ],
   "source": [
    "print(3+4)\n",
    "print(14 + 10)\n",
    "print(20 - 10)\n",
    "print(12 / 10)\n",
    "print(20 * 10)\n",
    "print(2 ** 2)\n",
    "print(11 % 2)\n",
    "print(12 // 10) "
   ]
  },
  {
   "cell_type": "markdown",
   "id": "1ea31110-1e8c-498c-9d9b-3da84f5c29cf",
   "metadata": {},
   "source": [
    "### Assignment Operators"
   ]
  },
  {
   "cell_type": "code",
   "execution_count": 27,
   "id": "380f3a38-a4e1-4ff8-a667-eba7d70970d5",
   "metadata": {},
   "outputs": [],
   "source": [
    "a = 10\n",
    "a += 10\n",
    "a *= 10\n",
    "a /= 10\n",
    "a -= 10\n",
    "a //= 10\n",
    "a **= 10\n",
    "a %= 10\n"
   ]
  },
  {
   "cell_type": "markdown",
   "id": "1523b164-2a37-4208-baf0-93983d0605b7",
   "metadata": {},
   "source": [
    "### Bitwise Operators"
   ]
  },
  {
   "cell_type": "code",
   "execution_count": 43,
   "id": "f780e106-9568-40fb-9acc-927fcae0b0fd",
   "metadata": {},
   "outputs": [
    {
     "name": "stdout",
     "output_type": "stream",
     "text": [
      "8\n",
      "False\n",
      "True\n",
      "-2\n",
      "True\n"
     ]
    }
   ],
   "source": [
    "# print(a)\n",
    "\n",
    "b = 10\n",
    "c = 12\n",
    "print(c & b)\n",
    "print(True & False)\n",
    "print(True | False)\n",
    "print(~True)\n",
    "print(True ^ False)"
   ]
  },
  {
   "cell_type": "markdown",
   "id": "50919ee9-b667-4232-b13d-49a44e3d97f6",
   "metadata": {},
   "source": [
    "### Comparison Operators"
   ]
  },
  {
   "cell_type": "code",
   "execution_count": 60,
   "id": "f4882448-3fa2-4168-95eb-04648519aee4",
   "metadata": {},
   "outputs": [
    {
     "name": "stdout",
     "output_type": "stream",
     "text": [
      "True\n",
      "False\n",
      "True\n",
      "False\n",
      "True\n",
      "False\n",
      "True\n"
     ]
    }
   ],
   "source": [
    "print(b < c)\n",
    "print(b > c)\n",
    "print(b != c)\n",
    "print(\"1\" == 1)\n",
    "\n",
    "#Identity Operator\n",
    "d = 10\n",
    "e = d\n",
    "team1 = {\"one\": \"faiz\", \"two\": \"messi\"}\n",
    "team2 = team1\n",
    "team3 = {\"one\": \"faiz\", \"two\": \"messi\"}\n",
    "\n",
    "print(team2 is team1)\n",
    "print(team3 is team1)\n",
    "print(d is e)\n"
   ]
  },
  {
   "cell_type": "markdown",
   "id": "52eeaec7-fc55-40ac-a345-0e46f1887606",
   "metadata": {},
   "source": [
    "### Logical Operators\n"
   ]
  },
  {
   "cell_type": "code",
   "execution_count": 64,
   "id": "8faa5e32-924f-4f08-bea7-d03a99ea6579",
   "metadata": {},
   "outputs": [
    {
     "name": "stdout",
     "output_type": "stream",
     "text": [
      "You are eligible to drive\n",
      "you are eligible to drive\n"
     ]
    }
   ],
   "source": [
    "# age = input(\"Enter your age:\")\n",
    "age = 20\n",
    "\n",
    "if age >= 18 and age < 55:\n",
    "    print(\"You are eligible to drive\")\n",
    "elif age < 18 or age > 55:\n",
    "    print(\"You are not eligible to drive\")\n",
    "else:\n",
    "    print(\"The input you have typed is not compatible\")\n",
    "\n",
    "#age = input(\"Enter your age:\")\n",
    "age = 20\n",
    "\n",
    "if age >= 18 and age < 55:\n",
    "    print(\"you are eligible to drive\")\n",
    "elif age < 18 or age >55:\n",
    "    print(\"you are eligible to drive\")\n",
    "else:\n",
    "    print(\"The input you have typed is not compatible\")"
   ]
  },
  {
   "cell_type": "markdown",
   "id": "7a151dec-f1de-498a-9d68-c1e672a4f912",
   "metadata": {},
   "source": [
    "### Membership Operators"
   ]
  },
  {
   "cell_type": "code",
   "execution_count": 62,
   "id": "e931d18a-6cc2-44f2-a8f6-9654cdcee51b",
   "metadata": {},
   "outputs": [
    {
     "name": "stdout",
     "output_type": "stream",
     "text": [
      "True\n",
      "False\n"
     ]
    }
   ],
   "source": [
    "print(\"one\" in team2)\n",
    "print(\"two\" not in team2)"
   ]
  },
  {
   "cell_type": "code",
   "execution_count": null,
   "id": "f122eb55-02f9-4a1f-9c58-d5ffcb90e157",
   "metadata": {},
   "outputs": [],
   "source": []
  }
 ],
 "metadata": {
  "kernelspec": {
   "display_name": "Python [conda env:dd]",
   "language": "python",
   "name": "conda-env-dd-py"
  },
  "language_info": {
   "codemirror_mode": {
    "name": "ipython",
    "version": 3
   },
   "file_extension": ".py",
   "mimetype": "text/x-python",
   "name": "python",
   "nbconvert_exporter": "python",
   "pygments_lexer": "ipython3",
   "version": "3.12.7"
  }
 },
 "nbformat": 4,
 "nbformat_minor": 5
}
