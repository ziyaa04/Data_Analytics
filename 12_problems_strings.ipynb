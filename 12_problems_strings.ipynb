{
 "cells": [
  {
   "cell_type": "markdown",
   "id": "5cf26015-34c1-473d-867c-0614f0319e8b",
   "metadata": {},
   "source": [
    "### Question 1: Concatenate two strings without using the + operator.\n"
   ]
  },
  {
   "cell_type": "code",
   "execution_count": 2,
   "id": "f5152d2f-c8b0-421b-b4a7-a4279931cd36",
   "metadata": {},
   "outputs": [
    {
     "name": "stdout",
     "output_type": "stream",
     "text": [
      "hello world\n",
      "hello world\n",
      "hello world\n",
      "second first\n"
     ]
    }
   ],
   "source": [
    "# Using f-string\n",
    "str1 = \"hello\"\n",
    "str2 = \"world\"\n",
    "print(f\"{str1} {str2}\")\n",
    "\n",
    "# Using join method\n",
    "print(\" \".join([str1, str2]))\n",
    "\n",
    "# Using format method\n",
    "print(\"{} {}\".format(str1, str2))\n",
    "print(\"{1} {0}\".format(\"first\", \"second\"))"
   ]
  },
  {
   "cell_type": "markdown",
   "id": "2975c418-443f-4b26-9ebf-8865a7021044",
   "metadata": {},
   "source": [
    "### Question 2: Reverse the string 'Python' using slicing.\n"
   ]
  },
  {
   "cell_type": "code",
   "execution_count": 5,
   "id": "d5f967b8-37e6-4d48-a2f5-ea2d171a20e2",
   "metadata": {},
   "outputs": [
    {
     "name": "stdout",
     "output_type": "stream",
     "text": [
      "nohtyP\n"
     ]
    }
   ],
   "source": [
    "def reverseStr(input):\n",
    "    return input[::-1]\n",
    "\n",
    "print(reverseStr(\"Python\"))"
   ]
  },
  {
   "cell_type": "markdown",
   "id": "4efb9066-5d5d-4b47-8ed3-9c3f6663b183",
   "metadata": {},
   "source": [
    "### Question 3: Check if the string 'level' is a palindrome.\n"
   ]
  },
  {
   "cell_type": "code",
   "execution_count": 8,
   "id": "db955770-5f21-4e09-a7f4-0d5381521a7a",
   "metadata": {},
   "outputs": [
    {
     "name": "stdout",
     "output_type": "stream",
     "text": [
      "True\n"
     ]
    }
   ],
   "source": [
    "def checkPalindrome(input):\n",
    "    return input == input[::-1]\n",
    "\n",
    "print(checkPalindrome(\"level\"))"
   ]
  },
  {
   "cell_type": "markdown",
   "id": "13419a32-68a4-4545-abe7-1b14be936026",
   "metadata": {},
   "source": [
    "### Question 4: Convert 'hello world' to uppercase and 'PYTHON' to lowercase."
   ]
  },
  {
   "cell_type": "code",
   "execution_count": 19,
   "id": "6fd20e4c-40ad-4427-a783-b727007dd021",
   "metadata": {},
   "outputs": [
    {
     "name": "stdout",
     "output_type": "stream",
     "text": [
      "HELLO WORLD\n"
     ]
    }
   ],
   "source": [
    "str1 = \"hello world\"\n",
    "print (str1.upper())"
   ]
  },
  {
   "cell_type": "code",
   "execution_count": 21,
   "id": "e05a27b2-44f2-4869-85e3-6a39c56ee0a8",
   "metadata": {},
   "outputs": [
    {
     "name": "stdout",
     "output_type": "stream",
     "text": [
      "python\n"
     ]
    }
   ],
   "source": [
    "str2 = \"PYTHON\"\n",
    "print (str2.lower())"
   ]
  },
  {
   "cell_type": "markdown",
   "id": "ae3ca8d1-19a3-42d9-babd-f3e7249c3d86",
   "metadata": {},
   "source": [
    "### Question 5: Remove leading and trailing spaces from the string ' Python '."
   ]
  },
  {
   "cell_type": "code",
   "execution_count": 24,
   "id": "4f362ad4-f59a-4ef9-8dc2-8a173ffeaf45",
   "metadata": {},
   "outputs": [
    {
     "name": "stdout",
     "output_type": "stream",
     "text": [
      " Python\n",
      "Python \n",
      "Python\n"
     ]
    }
   ],
   "source": [
    "str4 = \" Python \"\n",
    "print(str4.rstrip())\n",
    "print(str4.lstrip())\n",
    "print(str4.strip())"
   ]
  },
  {
   "cell_type": "markdown",
   "id": "eb05180e-7b30-47d5-9f0a-8a0064c8267b",
   "metadata": {},
   "source": [
    "### Question 6: Replace all occurrences of 'apple' with 'orange' in the string 'apple pie and apple juice'."
   ]
  },
  {
   "cell_type": "code",
   "execution_count": 27,
   "id": "468e5e42-5845-4807-9185-5fd8022e24d4",
   "metadata": {},
   "outputs": [
    {
     "name": "stdout",
     "output_type": "stream",
     "text": [
      "orange pie and orange juice\n"
     ]
    }
   ],
   "source": [
    "str5 = \"apple pie and apple juice\"\n",
    "print(str5.replace(\"apple\", \"orange\"))"
   ]
  },
  {
   "cell_type": "markdown",
   "id": "46e70199-1bf8-4203-9091-445a57cb2f62",
   "metadata": {},
   "source": [
    "### Question 7: Find the position of the first occurrence of 'world' in 'Hello world, welcome to the world of Python!'."
   ]
  },
  {
   "cell_type": "code",
   "execution_count": 30,
   "id": "0f153d8e-ea00-4d0e-b453-a5dc43afccaa",
   "metadata": {},
   "outputs": [
    {
     "name": "stdout",
     "output_type": "stream",
     "text": [
      "6\n"
     ]
    }
   ],
   "source": [
    "str6 = \"Hello world, welcome to the world of Python!\"\n",
    "print(str6.find(\"world\"))"
   ]
  },
  {
   "cell_type": "markdown",
   "id": "51c52e23-fcbd-4c47-b1e8-51b052c889a3",
   "metadata": {},
   "source": [
    "### Question 8: Concatenation and Repetition\n"
   ]
  },
  {
   "cell_type": "code",
   "execution_count": 33,
   "id": "73aa6e52-332d-4247-abbe-93771ab45665",
   "metadata": {},
   "outputs": [
    {
     "name": "stdout",
     "output_type": "stream",
     "text": [
      "Hello WorldHello WorldHello World\n"
     ]
    }
   ],
   "source": [
    "str6 = \"Hello\"\n",
    "str7 = \"World\"\n",
    "newStr = \" \".join([str6, str7])\n",
    "print(newStr * 3)"
   ]
  },
  {
   "cell_type": "markdown",
   "id": "578987f0-fca8-4041-809b-cae01ec4c778",
   "metadata": {},
   "source": [
    "### Question 9: Indexing and Slicing\n"
   ]
  },
  {
   "cell_type": "code",
   "execution_count": 36,
   "id": "08b89320-4ef2-4078-af71-9768cc0be7f2",
   "metadata": {},
   "outputs": [
    {
     "name": "stdout",
     "output_type": "stream",
     "text": [
      "Python\n",
      "mming\n",
      "PtoPormig\n",
      "gnimmargorPnohtyP\n"
     ]
    }
   ],
   "source": [
    "str8 = \"PythonProgramming\"\n",
    "print(str8[:6])  # First 6 characters\n",
    "print(str8[-5:])  # Last 5 characters\n",
    "print(str8[::2])  # Characters at even indices\n",
    "print(str8[::-1])  # Reverse the string"
   ]
  },
  {
   "cell_type": "markdown",
   "id": "7dbc2723-17d8-4ab4-962a-dc76fecd4a81",
   "metadata": {},
   "source": [
    "### Question 10: Manipulation Methods\n"
   ]
  },
  {
   "cell_type": "code",
   "execution_count": 39,
   "id": "67bdc31f-f204-47b2-8ec3-1fa5ce0dcca6",
   "metadata": {},
   "outputs": [
    {
     "name": "stdout",
     "output_type": "stream",
     "text": [
      "Python is AWESOME!!!\n",
      " PYTHON IS AWESOME!!!   python is awesome!!!   Python Is Awesome!!! \n",
      " Python is great!!! \n",
      "['', 'Python', 'is', 'AWESOME!!!', '']\n",
      "-Python-is-AWESOME!!!-\n"
     ]
    }
   ],
   "source": [
    "str9 = \" Python is AWESOME!!! \"\n",
    "print(str9.strip())  # Remove leading and trailing spaces\n",
    "print(str9.upper(), str9.lower(), str9.title())  # Case conversions\n",
    "print(str9.replace(\"AWESOME\", \"great\"))  # Replace substring\n",
    "print(str9.split(\" \"))  # Split the string\n",
    "print(\"-\".join(str9.split(\" \")))  # Join with hyphen"
   ]
  },
  {
   "cell_type": "markdown",
   "id": "7f7546e4-951e-46a5-a315-0a684bab4c34",
   "metadata": {},
   "source": [
    "### Question 11: Check if the strings below are alphanumeric, alphabetic, numeric, uppercase, or lowercase.\n"
   ]
  },
  {
   "cell_type": "code",
   "execution_count": 42,
   "id": "ee888624-6410-4264-9ece-a96e6daedaf4",
   "metadata": {},
   "outputs": [
    {
     "name": "stdout",
     "output_type": "stream",
     "text": [
      "True\n",
      "True\n",
      "True\n",
      "True\n",
      "False\n"
     ]
    }
   ],
   "source": [
    "print(\"Python123\".isalnum())\n",
    "print(\"2025\".isnumeric())\n",
    "print(\"HELLO\".isupper())\n",
    "print(\"hello\".islower())\n",
    "print(\"$money$\".isalpha())"
   ]
  },
  {
   "cell_type": "markdown",
   "id": "c717b265-f61f-4fe9-bfa2-8671dcedb5f0",
   "metadata": {},
   "source": [
    "### Question 12: Search and Count Methods"
   ]
  },
  {
   "cell_type": "code",
   "execution_count": 45,
   "id": "3cb188e9-002d-4de2-be4d-f721e5334bb0",
   "metadata": {},
   "outputs": [
    {
     "name": "stdout",
     "output_type": "stream",
     "text": [
      "10\n",
      "True\n",
      "3\n"
     ]
    }
   ],
   "source": [
    "str10 = \"Python is popular and powerful\"\n",
    "print(str10.find(\"popular\"))  # Find position of \"popular\"\n",
    "print(\"power\" in str10)  # Check if \"power\" exists\n",
    "print(str10.count(\"p\"))  # Count occurrences of \"p\""
   ]
  },
  {
   "cell_type": "code",
   "execution_count": null,
   "id": "729abff0-f2cf-4bd2-802f-2fda64400818",
   "metadata": {},
   "outputs": [],
   "source": []
  }
 ],
 "metadata": {
  "kernelspec": {
   "display_name": "Python [conda env:base] *",
   "language": "python",
   "name": "conda-base-py"
  },
  "language_info": {
   "codemirror_mode": {
    "name": "ipython",
    "version": 3
   },
   "file_extension": ".py",
   "mimetype": "text/x-python",
   "name": "python",
   "nbconvert_exporter": "python",
   "pygments_lexer": "ipython3",
   "version": "3.12.7"
  }
 },
 "nbformat": 4,
 "nbformat_minor": 5
}
