{
 "cells": [
  {
   "cell_type": "markdown",
   "id": "8d50ae30-6430-4d65-8bd4-c93dfa68544a",
   "metadata": {},
   "source": [
    "### Python Loops - Practice Questions\n",
    "1. Write a for loop to print numbers from 1 to 10."
   ]
  },
  {
   "cell_type": "code",
   "execution_count": 2,
   "id": "fa45071b-511c-49dc-b202-4f7816c0810a",
   "metadata": {},
   "outputs": [
    {
     "name": "stdout",
     "output_type": "stream",
     "text": [
      "1\n",
      "2\n",
      "3\n",
      "4\n",
      "5\n",
      "6\n",
      "7\n",
      "8\n",
      "9\n",
      "10\n"
     ]
    }
   ],
   "source": [
    "for i in range(1, 11):\n",
    "    print(i)\n"
   ]
  },
  {
   "cell_type": "markdown",
   "id": "e5b66c80-dc75-4e64-b568-7bfdee5d17c6",
   "metadata": {},
   "source": [
    "### 2. Write a while loop to print numbers from 10 to 1.\n"
   ]
  },
  {
   "cell_type": "code",
   "execution_count": 5,
   "id": "d813b713-ed17-4d14-ab53-3680624d9116",
   "metadata": {},
   "outputs": [
    {
     "name": "stdout",
     "output_type": "stream",
     "text": [
      "10\n",
      "9\n",
      "8\n",
      "7\n",
      "6\n",
      "5\n",
      "4\n",
      "3\n",
      "2\n",
      "1\n"
     ]
    }
   ],
   "source": [
    "i = 10\n",
    "while i >= 1:\n",
    "    print(i)\n",
    "    i -= 1\n"
   ]
  },
  {
   "cell_type": "markdown",
   "id": "f358cef6-b100-492e-b5d8-f67fd895dbe8",
   "metadata": {},
   "source": [
    "### 3. Write a loop to calculate the sum of the first 50 natural numbers.\n"
   ]
  },
  {
   "cell_type": "code",
   "execution_count": 8,
   "id": "39cd6513-0def-4901-89e9-88bd842bc65a",
   "metadata": {},
   "outputs": [
    {
     "name": "stdout",
     "output_type": "stream",
     "text": [
      "1275\n"
     ]
    }
   ],
   "source": [
    "total = 0\n",
    "for i in range(1, 51):\n",
    "    total += i\n",
    "\n",
    "print(total)\n"
   ]
  },
  {
   "cell_type": "markdown",
   "id": "fe584938-cd23-4269-bbdf-e4f50b9ab2de",
   "metadata": {},
   "source": [
    "### 4. Write a loop that prints all even numbers between 1 and 50.\n"
   ]
  },
  {
   "cell_type": "code",
   "execution_count": 12,
   "id": "1a599a73-9966-40da-a2fc-9f8401a1fabc",
   "metadata": {},
   "outputs": [
    {
     "name": "stdout",
     "output_type": "stream",
     "text": [
      "2\n",
      "4\n",
      "6\n",
      "8\n",
      "10\n",
      "12\n",
      "14\n",
      "16\n",
      "18\n",
      "20\n",
      "22\n",
      "24\n",
      "26\n",
      "28\n",
      "30\n",
      "32\n",
      "34\n",
      "36\n",
      "38\n",
      "40\n",
      "42\n",
      "44\n",
      "46\n",
      "48\n",
      "50\n"
     ]
    }
   ],
   "source": [
    "for i in range(2, 51, 2):\n",
    "    print(i)\n"
   ]
  },
  {
   "cell_type": "markdown",
   "id": "0807cfa7-04bb-4b91-bbce-12bad5d6a338",
   "metadata": {},
   "source": [
    "### 5. Write a loop that prints the multiplication table of a given number n.\n"
   ]
  },
  {
   "cell_type": "code",
   "execution_count": 15,
   "id": "f34ad097-8d56-40fe-beda-3110016326b9",
   "metadata": {},
   "outputs": [
    {
     "name": "stdout",
     "output_type": "stream",
     "text": [
      "5 x 1 = 5\n",
      "5 x 2 = 10\n",
      "5 x 3 = 15\n",
      "5 x 4 = 20\n",
      "5 x 5 = 25\n",
      "5 x 6 = 30\n",
      "5 x 7 = 35\n",
      "5 x 8 = 40\n",
      "5 x 9 = 45\n",
      "5 x 10 = 50\n"
     ]
    }
   ],
   "source": [
    "def multiplication_table(n):\n",
    "    for i in range(1, 11):  # Loop from 1 to 10\n",
    "        print(f\"{n} x {i} = {n * i}\")\n",
    "\n",
    "# Example: print the multiplication table of 5\n",
    "multiplication_table(5)\n"
   ]
  },
  {
   "cell_type": "markdown",
   "id": "f5c2d889-6c5c-4b6a-b445-80b347925829",
   "metadata": {},
   "source": [
    "### 6. Write a loop to find the factorial of a given number n.\n"
   ]
  },
  {
   "cell_type": "code",
   "execution_count": 18,
   "id": "1b8eeab2-6394-4de2-8338-5a4eb6cfe4f7",
   "metadata": {},
   "outputs": [
    {
     "name": "stdout",
     "output_type": "stream",
     "text": [
      "120\n"
     ]
    }
   ],
   "source": [
    "\n",
    "def factorial(n):\n",
    "    result = 1\n",
    "    for i in range(1, n + 1):  # Loop from 1 to n\n",
    "        result *= i  # Multiply result by i\n",
    "    return result\n",
    "\n",
    "# Example: find the factorial of 5\n",
    "print(factorial(5))\n"
   ]
  },
  {
   "cell_type": "markdown",
   "id": "6f5f9aff-25a6-48f6-8134-08dd909c4032",
   "metadata": {},
   "source": [
    "### 7. Write a loop to reverse a given string without using slicing.\n"
   ]
  },
  {
   "cell_type": "code",
   "execution_count": 21,
   "id": "5de77bfd-fba1-48d4-a968-9c2b6b6ca14a",
   "metadata": {},
   "outputs": [
    {
     "name": "stdout",
     "output_type": "stream",
     "text": [
      "olleh\n"
     ]
    }
   ],
   "source": [
    "def reverse_string(s):\n",
    "    reversed_str = \"\"\n",
    "    for char in s:\n",
    "        reversed_str = char + reversed_str  # Add the character at the front\n",
    "    return reversed_str\n",
    "\n",
    "# Example: reverse the string \"hello\"\n",
    "print(reverse_string(\"hello\"))\n"
   ]
  },
  {
   "cell_type": "markdown",
   "id": "5a8fdaeb-34d9-476b-8cc0-f8850eaeacba",
   "metadata": {},
   "source": [
    "### 8. Write a loop to count the number of digits in a given number.\n"
   ]
  },
  {
   "cell_type": "code",
   "execution_count": 24,
   "id": "260d8e33-fa2e-44aa-82ab-ea05218733ca",
   "metadata": {},
   "outputs": [
    {
     "name": "stdout",
     "output_type": "stream",
     "text": [
      "5\n"
     ]
    }
   ],
   "source": [
    "def count_digits(n):\n",
    "    count = 0\n",
    "    while n > 0:\n",
    "        n = n // 10  # Remove the last digit by performing integer division\n",
    "        count += 1\n",
    "    return count\n",
    "\n",
    "# Example: count the digits of 12345\n",
    "print(count_digits(12345))\n"
   ]
  },
  {
   "cell_type": "markdown",
   "id": "a723686f-00ae-4575-adbb-8cf50fdf6244",
   "metadata": {},
   "source": [
    "### 9. Write a loop that prints Fibonacci numbers up to n terms.\n"
   ]
  },
  {
   "cell_type": "code",
   "execution_count": 27,
   "id": "9729a408-d36a-49c6-ac21-ecdae9fb3df8",
   "metadata": {},
   "outputs": [
    {
     "name": "stdout",
     "output_type": "stream",
     "text": [
      "0 1 1 2 3 5 8 13 21 34 "
     ]
    }
   ],
   "source": [
    "\n",
    "def fibonacci(n):\n",
    "    a, b = 0, 1  # Initialize the first two Fibonacci numbers\n",
    "    for _ in range(n):\n",
    "        print(a, end=\" \")  # Print the current Fibonacci number\n",
    "        a, b = b, a + b  # Update to the next two Fibonacci numbers\n",
    "\n",
    "# Example: print the first 10 Fibonacci numbers\n",
    "fibonacci(10)\n"
   ]
  },
  {
   "cell_type": "markdown",
   "id": "f23f3607-2b45-4d9f-8a5e-2b83a187480f",
   "metadata": {},
   "source": [
    "### 10. Write a loop to find the sum of all digits in a given number.\n"
   ]
  },
  {
   "cell_type": "code",
   "execution_count": 30,
   "id": "f82ec847-52a5-44cd-820d-0b86a9f86ab1",
   "metadata": {},
   "outputs": [
    {
     "name": "stdout",
     "output_type": "stream",
     "text": [
      "15\n"
     ]
    }
   ],
   "source": [
    "def sum_of_digits(n):\n",
    "    total = 0\n",
    "    while n > 0:\n",
    "        total += n % 10  # Add the last digit of n to total\n",
    "        n = n // 10  # Remove the last digit from n\n",
    "    return total\n",
    "\n",
    "# Example: find the sum of digits of 12345\n",
    "print(sum_of_digits(12345))\n"
   ]
  },
  {
   "cell_type": "markdown",
   "id": "3a24d556-51be-4048-97a4-f25ce6c6e8be",
   "metadata": {},
   "source": [
    "### 11. Write a nested loop to print the following pattern for n = 5:\n",
    "*\n",
    "**\n",
    "***\n",
    "****\n",
    "*****"
   ]
  },
  {
   "cell_type": "code",
   "execution_count": 33,
   "id": "8cd475b3-8254-4661-8a5e-07db7ad2de53",
   "metadata": {},
   "outputs": [
    {
     "name": "stdout",
     "output_type": "stream",
     "text": [
      "*\n",
      "**\n",
      "***\n",
      "****\n",
      "*****\n"
     ]
    }
   ],
   "source": [
    "def print_pattern(n):\n",
    "    for i in range(1, n + 1):\n",
    "        # Print '*' i times for each row\n",
    "        for j in range(i):\n",
    "            print('*', end='')  # Print without newline\n",
    "        print()  # Move to the next line after each row\n",
    "\n",
    "# Example: print the pattern for n = 5\n",
    "print_pattern(5)\n"
   ]
  },
  {
   "cell_type": "markdown",
   "id": "b38e9fb9-bddb-4a81-9a28-8496da5e1b4c",
   "metadata": {},
   "source": [
    "### 12. Write a loop to find and print all prime numbers between 1 and 100.\n"
   ]
  },
  {
   "cell_type": "code",
   "execution_count": 36,
   "id": "34ac2e4c-e1e2-437f-9dc7-f534e4ba28e7",
   "metadata": {},
   "outputs": [
    {
     "name": "stdout",
     "output_type": "stream",
     "text": [
      "2 3 5 7 11 13 17 19 23 29 31 37 41 43 47 53 59 61 67 71 73 79 83 89 97 "
     ]
    }
   ],
   "source": [
    "def is_prime(num):\n",
    "    if num < 2:\n",
    "        return False\n",
    "    for i in range(2, int(num**0.5) + 1):  # Check up to the square root of num\n",
    "        if num % i == 0:  # If num is divisible by any number, it's not prime\n",
    "            return False\n",
    "    return True\n",
    "\n",
    "def print_primes_up_to_100():\n",
    "    for num in range(1, 101):\n",
    "        if is_prime(num):\n",
    "            print(num, end=\" \")\n",
    "\n",
    "# Print prime numbers between 1 and 100\n",
    "print_primes_up_to_100()\n"
   ]
  },
  {
   "cell_type": "code",
   "execution_count": null,
   "id": "999704c6-a928-4c74-81f1-bb1743e3c28f",
   "metadata": {},
   "outputs": [],
   "source": []
  }
 ],
 "metadata": {
  "kernelspec": {
   "display_name": "Python [conda env:base] *",
   "language": "python",
   "name": "conda-base-py"
  },
  "language_info": {
   "codemirror_mode": {
    "name": "ipython",
    "version": 3
   },
   "file_extension": ".py",
   "mimetype": "text/x-python",
   "name": "python",
   "nbconvert_exporter": "python",
   "pygments_lexer": "ipython3",
   "version": "3.12.7"
  }
 },
 "nbformat": 4,
 "nbformat_minor": 5
}
