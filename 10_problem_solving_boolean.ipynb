{
 "cells": [
  {
   "cell_type": "markdown",
   "id": "f672523b-f577-472b-8f16-71291f4f8e88",
   "metadata": {},
   "source": [
    "### Question 1: Which of the following values will be evaluated as False by the bool() function?\n",
    "\"Hello\"\n",
    "0\n",
    "[]\n",
    "-1\n",
    "{}\n",
    "None"
   ]
  },
  {
   "cell_type": "code",
   "execution_count": 13,
   "id": "0a1581fc-f03c-4f56-a134-38e7159daec6",
   "metadata": {},
   "outputs": [],
   "source": [
    "# 0, {} , [] , None"
   ]
  },
  {
   "cell_type": "markdown",
   "id": "73333434-6199-4f05-8225-87044e744a99",
   "metadata": {},
   "source": [
    "### Question 2: Write a Python program that takes user input and checks if it's a falsy value.\n"
   ]
  },
  {
   "cell_type": "code",
   "execution_count": 15,
   "id": "bf5bacc9-2042-46ec-af10-71f367ab0b40",
   "metadata": {},
   "outputs": [
    {
     "name": "stdin",
     "output_type": "stream",
     "text": [
      "Enter something:  7\n"
     ]
    },
    {
     "name": "stdout",
     "output_type": "stream",
     "text": [
      "The input is a truthy value.\n"
     ]
    }
   ],
   "source": [
    "# Take input from the user\n",
    "user_input = input(\"Enter something: \")\n",
    "\n",
    "# Check if the input is falsy\n",
    "if not user_input:\n",
    "    print(\"The input is a falsy value.\")\n",
    "else:\n",
    "    print(\"The input is a truthy value.\")\n",
    "\n"
   ]
  },
  {
   "cell_type": "markdown",
   "id": "6a702451-f5a4-418e-9d7a-988d613130e3",
   "metadata": {},
   "source": [
    "### Question 3: Identify the falsy values in this list: [0,1,\"\",[],{1,2}]\n",
    "### Question 6: Write a function that removes all falsy values from a list.\n"
   ]
  },
  {
   "cell_type": "code",
   "execution_count": 9,
   "id": "dde63f0e-8fa5-49fd-be79-d8dabcda3bbc",
   "metadata": {},
   "outputs": [],
   "source": []
  },
  {
   "cell_type": "markdown",
   "id": "34c9c898-e10e-4989-ab7b-7b882c583bbf",
   "metadata": {},
   "source": [
    "### Question 4: Explain why the output of bool(0.0) is False but bool(0.00001) is True.\n"
   ]
  },
  {
   "cell_type": "code",
   "execution_count": null,
   "id": "8b636e48-bef3-4c09-93fb-34823067c2cf",
   "metadata": {},
   "outputs": [],
   "source": []
  },
  {
   "cell_type": "code",
   "execution_count": null,
   "id": "ee34f808-6194-4776-be2d-4fcf8ff00872",
   "metadata": {},
   "outputs": [],
   "source": []
  }
 ],
 "metadata": {
  "kernelspec": {
   "display_name": "Python [conda env:base] *",
   "language": "python",
   "name": "conda-base-py"
  },
  "language_info": {
   "codemirror_mode": {
    "name": "ipython",
    "version": 3
   },
   "file_extension": ".py",
   "mimetype": "text/x-python",
   "name": "python",
   "nbconvert_exporter": "python",
   "pygments_lexer": "ipython3",
   "version": "3.12.7"
  }
 },
 "nbformat": 4,
 "nbformat_minor": 5
}
