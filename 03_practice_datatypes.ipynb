{
 "cells": [
  {
   "cell_type": "markdown",
   "id": "f62d39aa-baa6-4234-9507-d6299f448639",
   "metadata": {},
   "source": [
    "### Question1- What are the different data types in Python? Give examples of each\n"
   ]
  },
  {
   "cell_type": "code",
   "execution_count": 4,
   "id": "c801d2e0-8646-4234-898d-61aa049360bf",
   "metadata": {},
   "outputs": [],
   "source": [
    "#Primitive Datatypes\n",
    "a1 = 12 #integer\n",
    "a2 = 1.2 #float\n",
    "a3 = \"jake\" #string\n",
    "a4 = True #Boolean\n",
    "a5 = 1+2j  #complex\n",
    "a6 = {1,2,3,4} #set\n",
    "a7 = [\"reddy\", True, 12] #list\n",
    "a8 = {\"name\":\"virat\",\"sport\":\"cricket\"} #dictionary\n",
    "a9 = None\n",
    "a10 = (1, 2,3)#tuple"
   ]
  },
  {
   "cell_type": "markdown",
   "id": "2a509ab9-413d-4a74-a50c-d659dd75ec2c",
   "metadata": {},
   "source": [
    "### Question2- How do you convert a string '123' into an integer?\n"
   ]
  },
  {
   "cell_type": "code",
   "execution_count": 7,
   "id": "77aa6c84-8952-4493-8ab8-4b173ab0d2f6",
   "metadata": {},
   "outputs": [
    {
     "name": "stdout",
     "output_type": "stream",
     "text": [
      "<class 'int'>\n"
     ]
    }
   ],
   "source": [
    "a = \"123\"\n",
    "b = int(a)\n",
    "print(type(b))"
   ]
  },
  {
   "cell_type": "markdown",
   "id": "06df1b3f-1605-4d96-a1d4-c58f08eecd64",
   "metadata": {},
   "source": [
    "### Question3-Write a Python program to check if a given variable is of type float."
   ]
  },
  {
   "cell_type": "code",
   "execution_count": 12,
   "id": "4ae2b301-c104-4a01-ad7f-dc5106bababd",
   "metadata": {},
   "outputs": [
    {
     "data": {
      "text/plain": [
       "True"
      ]
     },
     "execution_count": 12,
     "metadata": {},
     "output_type": "execute_result"
    }
   ],
   "source": [
    "def isFloat(input):\n",
    "    return type(input) == float\n",
    "isFloat(1.2)\n"
   ]
  },
  {
   "cell_type": "markdown",
   "id": "0149990d-6b58-4c6f-89c4-7001d1379a21",
   "metadata": {},
   "source": [
    "### Question4-Convert the list [1, 2, 3, 4] into a tuple and a set.\n"
   ]
  },
  {
   "cell_type": "code",
   "execution_count": 15,
   "id": "57732299-b2ba-4b31-83e1-062bb45d1a68",
   "metadata": {},
   "outputs": [
    {
     "name": "stdout",
     "output_type": "stream",
     "text": [
      "<class 'tuple'>\n",
      "<class 'set'>\n"
     ]
    }
   ],
   "source": [
    "list1 = [1,2,3,4]\n",
    "tuple1 = tuple(list1)\n",
    "print(type(tuple1))\n",
    "set1 = set(list1)\n",
    "print(type(set1))"
   ]
  },
  {
   "cell_type": "markdown",
   "id": "eda0527e-b37a-46b0-be4b-ab3a9f0c58c9",
   "metadata": {},
   "source": [
    "### Question5-Write a Python script to calculate the length of a string provided by the user.\n"
   ]
  },
  {
   "cell_type": "code",
   "execution_count": 20,
   "id": "88644845-55e7-4178-be7a-0c1e6c09498b",
   "metadata": {},
   "outputs": [
    {
     "name": "stdout",
     "output_type": "stream",
     "text": [
      "3\n"
     ]
    }
   ],
   "source": [
    "def calculateLen(input):\n",
    "    return len(input)\n",
    "print(calculateLen(\"123\"))"
   ]
  },
  {
   "cell_type": "markdown",
   "id": "5b053945-cdf7-4f53-82c5-9d3245ae5493",
   "metadata": {},
   "source": [
    "### Question6-Create a dictionary to store details of a student (name, age, grade). Retrieve the age from the dictionary.\n"
   ]
  },
  {
   "cell_type": "code",
   "execution_count": 23,
   "id": "a6855bc2-e9b5-407d-b266-0b72956baf66",
   "metadata": {},
   "outputs": [
    {
     "name": "stdout",
     "output_type": "stream",
     "text": [
      "Redd\n"
     ]
    }
   ],
   "source": [
    "stud1 = {\n",
    "    \"name\":\"Redd\",\n",
    "    \"age\":12,\n",
    "    \"grade\":\"A\"\n",
    "}\n",
    "print(stud1[\"name\"])"
   ]
  },
  {
   "cell_type": "markdown",
   "id": "7c6bc0fa-41ef-452f-b8f2-129d3fdce80b",
   "metadata": {},
   "source": [
    "### Question7-Write a program to check if a variable is mutable or immutable"
   ]
  },
  {
   "cell_type": "code",
   "execution_count": 26,
   "id": "0299a933-94d0-4b96-93e7-44d83e56ba27",
   "metadata": {},
   "outputs": [
    {
     "data": {
      "text/plain": [
       "True"
      ]
     },
     "execution_count": 26,
     "metadata": {},
     "output_type": "execute_result"
    }
   ],
   "source": [
    "def isImmutable(input):\n",
    "    return type(input)==tuple or type(input)==str\n",
    "\n",
    "isImmutable((1,2,3))"
   ]
  },
  {
   "cell_type": "markdown",
   "id": "9ed83f53-fb92-4e2f-98e2-912f3d9b8e05",
   "metadata": {},
   "source": [
    "### Question8-Convert the integer 10 to binary, octal, and hexadecimal formats.\n"
   ]
  },
  {
   "cell_type": "code",
   "execution_count": 29,
   "id": "e00e5ef8-6b78-450f-bd3f-2b86c6ada6fd",
   "metadata": {},
   "outputs": [
    {
     "name": "stdout",
     "output_type": "stream",
     "text": [
      "0b1010\n",
      "0o12\n",
      "0xa\n"
     ]
    }
   ],
   "source": [
    "test1 = 10\n",
    "print(bin(10))\n",
    "print(oct(10))\n",
    "print(hex(10))"
   ]
  },
  {
   "cell_type": "markdown",
   "id": "f69fe7d2-670b-4fa4-9ba5-47fcd60fb7b5",
   "metadata": {},
   "source": [
    "### Question9-Write a Python program to swap two numbers using tuple unpacking.\n"
   ]
  },
  {
   "cell_type": "code",
   "execution_count": 32,
   "id": "98a0fecf-bb13-4dbf-9e6b-0d8b92e833ac",
   "metadata": {},
   "outputs": [
    {
     "name": "stdout",
     "output_type": "stream",
     "text": [
      "20 10\n"
     ]
    }
   ],
   "source": [
    "a = 10\n",
    "b = 20\n",
    "a,b = b,a\n",
    "print(a, b)"
   ]
  },
  {
   "cell_type": "code",
   "execution_count": null,
   "id": "1c921f92-9828-4165-b9c3-acd5413910d8",
   "metadata": {},
   "outputs": [],
   "source": []
  }
 ],
 "metadata": {
  "kernelspec": {
   "display_name": "Python [conda env:base] *",
   "language": "python",
   "name": "conda-base-py"
  },
  "language_info": {
   "codemirror_mode": {
    "name": "ipython",
    "version": 3
   },
   "file_extension": ".py",
   "mimetype": "text/x-python",
   "name": "python",
   "nbconvert_exporter": "python",
   "pygments_lexer": "ipython3",
   "version": "3.12.7"
  }
 },
 "nbformat": 4,
 "nbformat_minor": 5
}
