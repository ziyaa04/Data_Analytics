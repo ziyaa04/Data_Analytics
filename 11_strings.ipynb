{
 "cells": [
  {
   "cell_type": "markdown",
   "id": "8ff28db3-5aa9-4df8-8e03-c9621eec503c",
   "metadata": {},
   "source": [
    "### String in Python"
   ]
  },
  {
   "cell_type": "markdown",
   "id": "4a105124-705a-4466-acff-98cf1dd1cc51",
   "metadata": {},
   "source": [
    "### Basic Stuff "
   ]
  },
  {
   "cell_type": "code",
   "execution_count": 9,
   "id": "9766187e-10df-4415-a81b-08616559a200",
   "metadata": {},
   "outputs": [
    {
     "name": "stdout",
     "output_type": "stream",
     "text": [
      "True\n"
     ]
    }
   ],
   "source": [
    "str1 = \"This is single line string\"\n",
    "str2 = \"\"\"\n",
    "This is a multiline string\n",
    "you can write more in it\n",
    "\"\"\"\n",
    "\n",
    "#You can use membership operator in order to check any string present inside the main string\n",
    "print(\"multiline\" in str2)"
   ]
  },
  {
   "cell_type": "markdown",
   "id": "4bb6eb60-0c9c-4064-ad45-dbd0ca4db9c3",
   "metadata": {},
   "source": [
    "### Operations on string"
   ]
  },
  {
   "cell_type": "code",
   "execution_count": 14,
   "id": "31b1ed2c-326e-41dd-b826-fa2e230d405b",
   "metadata": {},
   "outputs": [
    {
     "name": "stdout",
     "output_type": "stream",
     "text": [
      "24\n"
     ]
    }
   ],
   "source": [
    "#Question: finding length of string \n",
    "\n",
    "str3 = \"This is a example string\"\n",
    "print(len(str3))"
   ]
  },
  {
   "cell_type": "code",
   "execution_count": 38,
   "id": "4b7c095a-ac17-4da7-b7f5-be6c77f9d8e4",
   "metadata": {},
   "outputs": [
    {
     "name": "stdout",
     "output_type": "stream",
     "text": [
      "This string is only for testing purpose\n",
      "This string is only for testing purpose\n",
      "This string is only for testing purpose\n",
      "Ti tigi nyfrtsigproe\n",
      "esoprup gnitset rof ylno si gnirts sihT\n"
     ]
    }
   ],
   "source": [
    "#Strings are like a array which stores the character starting from index 0\n",
    "#accessing the sub strings using array like box notation\n",
    "str4 = \"This string is only for testing purpose\"\n",
    "\n",
    "print(str4[0:len(str4)]) #by default 0 is in first and second is string's entire length if you don't put anything\n",
    "#below and above are same\n",
    "print(str4[0:])\n",
    "#below and above are same\n",
    "print(str4[:len(str4)])\n",
    "print(str4[::2]) #putting negative index(slice step) at third place will start to get string in account from end and first two position are considered as default here which is nothing but 0, len(str)\n",
    "print(str4[::-1])"
   ]
  },
  {
   "cell_type": "code",
   "execution_count": 44,
   "id": "548edbf2-4744-472f-b4a6-5744b753494d",
   "metadata": {},
   "outputs": [
    {
     "name": "stdout",
     "output_type": "stream",
     "text": [
      "TT \n",
      "hh \n",
      "ii \n",
      "ss \n",
      "   \n",
      "ss \n",
      "tt \n",
      "rr \n",
      "ii \n",
      "nn \n",
      "gg \n",
      "   \n",
      "ii \n",
      "ss \n",
      "   \n",
      "ff \n",
      "oo \n",
      "rr \n",
      "   \n",
      "pp \n",
      "rr \n",
      "ii \n",
      "nn \n",
      "tt \n",
      "ii \n",
      "nn \n",
      "gg \n",
      "   \n",
      "pp \n",
      "uu \n",
      "rr \n",
      "pp \n",
      "oo \n",
      "ss \n",
      "ee \n"
     ]
    }
   ],
   "source": [
    "str5 = \"This string is for printing purpose\"\n",
    "for i in str5:\n",
    "    print(i,end=\"\") # here we use end=\"\" so that the string will remain at one line \n",
    "    print(i,\"\")"
   ]
  },
  {
   "cell_type": "markdown",
   "id": "e863c48a-0bd1-49a6-a146-2439c7852399",
   "metadata": {},
   "source": [
    "### Formatting in strings\n"
   ]
  },
  {
   "cell_type": "code",
   "execution_count": 46,
   "id": "2f3abf53-d936-4f49-b9c8-e9356452a2bc",
   "metadata": {},
   "outputs": [
    {
     "name": "stdout",
     "output_type": "stream",
     "text": [
      "Jimmy put plates on table, before it's too late\n",
      "put plates on table Jimmy, before it's too late\n",
      "Jimmy put plates on table, before it's too late\n"
     ]
    }
   ],
   "source": [
    "#step1:create variables to put inside the string\n",
    "task = \"put plates on table\"\n",
    "name = \"Jimmy\"\n",
    "#step2:Make a statement\n",
    "statement = \"{} {}, before it's too late\"\n",
    "print(statement.format(name,task))\n",
    "\n",
    "#sometime we don't know the position of variables\n",
    "statement2 = \"{1} {0}, before it's too late\"\n",
    "print(statement2.format(name,task))\n",
    "\n",
    "#Using f strings\n",
    "\n",
    "print(f\"{name} {task}, before it's too late\")"
   ]
  },
  {
   "cell_type": "markdown",
   "id": "2c2945be-eaac-4d13-881f-9394123e33a9",
   "metadata": {},
   "source": [
    "### String formating methods"
   ]
  },
  {
   "cell_type": "code",
   "execution_count": 24,
   "id": "ff36a267-df54-433c-8bb8-3888f33e772a",
   "metadata": {},
   "outputs": [
    {
     "name": "stdout",
     "output_type": "stream",
     "text": [
      "   This String Is For Formatting Purpose    \n",
      "   this string is for formatting purpose    \n",
      "   THIS STRING IS FOR FORMATTING PURPOSE    \n",
      "   this string is for formatting purpose    \n",
      "   THIS STRING IS FOR FORMaTTING PURPOSE    \n",
      "   this string is for formAtting purpose    \n",
      "this string is for formAtting purpose\n",
      "this string is for formAtting purpose    \n"
     ]
    }
   ],
   "source": [
    "str6 = \"   this string is for formAtting purpose    \"\n",
    "print(str6.title())\n",
    "print(str6.capitalize())\n",
    "print(str6.upper())\n",
    "print(str6.lower())\n",
    "print(str6.swapcase())\n",
    "str7 = \"   this string is for formatting purpose    ssssss\"\n",
    "print(str6.rstrip(\"s\"))\n",
    "print(str6.strip())\n",
    "print(str6.lstrip())"
   ]
  },
  {
   "cell_type": "markdown",
   "id": "04112fda-a9c7-4020-9001-033dacd55421",
   "metadata": {},
   "source": [
    "###  String adjusting methods"
   ]
  },
  {
   "cell_type": "code",
   "execution_count": 27,
   "id": "fc186e31-1d13-4369-9bde-006826cf8b26",
   "metadata": {},
   "outputs": [
    {
     "name": "stdout",
     "output_type": "stream",
     "text": [
      "iiiiihello\n",
      "helloiiiii\n",
      "iiihelloiii\n"
     ]
    }
   ],
   "source": [
    "str8 = \"hello\"\n",
    "print(str8.rjust(10,\"i\"))\n",
    "print(str8.ljust(10,\"i\"))\n",
    "print(str8.center(11,\"i\"))"
   ]
  },
  {
   "cell_type": "markdown",
   "id": "2fb482a8-eb92-48df-b8de-fb520da1e307",
   "metadata": {},
   "source": [
    "### String checking methods"
   ]
  },
  {
   "cell_type": "code",
   "execution_count": 30,
   "id": "46cc96be-7b6a-4f4f-9c76-30331fc37ca1",
   "metadata": {},
   "outputs": [
    {
     "name": "stdout",
     "output_type": "stream",
     "text": [
      "True\n",
      "2\n",
      "True\n",
      "2\n",
      "True\n",
      "True\n",
      "True\n",
      "False\n",
      "this\n"
     ]
    }
   ],
   "source": [
    "str9 = \"This is sample string\"\n",
    "\n",
    "print(str9.endswith(\"string\"))\n",
    "# print(str9.index(\"lol\")) #this will give error if cannot find the string index\n",
    "print(str9.find(\"is\")) #This will return -1 if cannot find the string index\n",
    "print(str9.startswith(\"This\"))\n",
    "print(str9.count(\"is\"))\n",
    "str10 = \"1\"\n",
    "print(str10.isalnum())\n",
    "str11 = \"this\"\n",
    "print(str11.isalpha())\n",
    "print(str11.islower())\n",
    "print(str11.isupper())\n",
    "print(str11)"
   ]
  },
  {
   "cell_type": "markdown",
   "id": "42e141d3-4e02-4458-a82e-6b92395a5481",
   "metadata": {},
   "source": [
    "### Extra usefull methods"
   ]
  },
  {
   "cell_type": "code",
   "execution_count": 33,
   "id": "8eabc9b1-777d-4f74-a197-c79980dba38e",
   "metadata": {},
   "outputs": [
    {
     "name": "stdout",
     "output_type": "stream",
     "text": [
      "['this', 'is', 'testing', 'of', 'string']\n",
      "this is testing string\n"
     ]
    }
   ],
   "source": [
    "str12 = \"this is testing of string\"\n",
    "print(str12.split(\" \")) #will make the list of string with \" \" argument as a separator\n",
    "print(\" \".join([\"this\", \"is\", \"testing\",\"string\"])) # this will join the string with provided string in between"
   ]
  },
  {
   "cell_type": "code",
   "execution_count": null,
   "id": "fb9b3844-3baa-438d-a39e-a726855bba8b",
   "metadata": {},
   "outputs": [],
   "source": []
  }
 ],
 "metadata": {
  "kernelspec": {
   "display_name": "Python [conda env:base] *",
   "language": "python",
   "name": "conda-base-py"
  },
  "language_info": {
   "codemirror_mode": {
    "name": "ipython",
    "version": 3
   },
   "file_extension": ".py",
   "mimetype": "text/x-python",
   "name": "python",
   "nbconvert_exporter": "python",
   "pygments_lexer": "ipython3",
   "version": "3.12.7"
  }
 },
 "nbformat": 4,
 "nbformat_minor": 5
}
