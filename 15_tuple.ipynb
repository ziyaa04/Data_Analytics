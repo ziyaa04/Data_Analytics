{
 "cells": [
  {
   "cell_type": "markdown",
   "id": "bd9a6326-c3ee-41b9-8e4c-52adb3bf6d74",
   "metadata": {},
   "source": [
    "### Tuples"
   ]
  },
  {
   "cell_type": "markdown",
   "id": "cd8ca89f-0ce7-457d-8ef1-697d281544d9",
   "metadata": {},
   "source": [
    "### Basic"
   ]
  },
  {
   "cell_type": "code",
   "execution_count": 3,
   "id": "3edf92a8-340a-4b48-b40b-599ba922c563",
   "metadata": {},
   "outputs": [
    {
     "name": "stdout",
     "output_type": "stream",
     "text": [
      "item is present\n",
      "this is string tuple "
     ]
    }
   ],
   "source": [
    "tup1 = (\"this\", \"is\",\"string\",\"tuple\")\n",
    "\n",
    "#using membership operator to check any element present in tuple or not\n",
    "def check_presence(input_tuple,item):\n",
    "    if item in input_tuple:\n",
    "        print(\"item is present\")\n",
    "    else:\n",
    "        print(\"item is not present\")\n",
    "\n",
    "check_presence(tup1,\"string\")\n",
    "\n",
    "#running loop on tuple\n",
    "for i in range(len(tup1)):\n",
    "    print(tup1[i],\"\",end=\"\")"
   ]
  },
  {
   "cell_type": "markdown",
   "id": "f25bede3-94c5-4da1-a3cc-9ad4d5ca1645",
   "metadata": {},
   "source": [
    "### 🍭changing tuple"
   ]
  },
  {
   "cell_type": "code",
   "execution_count": 6,
   "id": "a1b246bd-4d7b-4910-a658-0ffe46bbe488",
   "metadata": {},
   "outputs": [
    {
     "name": "stdout",
     "output_type": "stream",
     "text": [
      "['testing', 'tuple', 'do it']\n"
     ]
    }
   ],
   "source": [
    "tup2 = (1,2,3,4)\n",
    "tup2 = (1,2,3,4,5,)\n",
    "tup3 = (6,7,8,9,10)\n",
    "\n",
    "# we cannot change the tuple values but we can reassign the new tuple values to variable\n",
    "# we can make tuple into list first then change it and then make tuple of that list\n",
    "\n",
    "tup5 = (\"This\", \"is\", \"testing\" ,\"tuple\")\n",
    "\n",
    "tup_list = list(tup5)\n",
    "tup_list.append(\"do it\")\n",
    "del tup_list[1]\n",
    "tup_list.pop(0)\n",
    "print(tup_list)"
   ]
  },
  {
   "cell_type": "markdown",
   "id": "41cb59fc-b717-4b5d-9b68-06732e74f54b",
   "metadata": {},
   "source": [
    "### 🍭Unpack tuple"
   ]
  },
  {
   "cell_type": "code",
   "execution_count": 9,
   "id": "743e3da0-9fc5-413d-adba-10eca04ea96e",
   "metadata": {},
   "outputs": [
    {
     "name": "stdout",
     "output_type": "stream",
     "text": [
      "james 22 cook\n",
      "['jack fruit', 'grapes', 'banana', 'watermelon', 'mango']\n"
     ]
    }
   ],
   "source": [
    "tup6 = (\"james\",22,\"cook\")\n",
    "(name, age, occupation) = tup6\n",
    "print(name, age, occupation)\n",
    "tup7 = (\"pineapple\",\"apple\",\"jack fruit\",\"grapes\",\"banana\",\"watermelon\",\"mango\")\n",
    "#below * is star operator\n",
    "(fruit1,fruit2,*remaining) = tup7\n",
    "print(remaining)"
   ]
  },
  {
   "cell_type": "code",
   "execution_count": null,
   "id": "962781f9-ca4b-4202-925d-8e5fc64c9fc5",
   "metadata": {},
   "outputs": [],
   "source": []
  }
 ],
 "metadata": {
  "kernelspec": {
   "display_name": "Python [conda env:base] *",
   "language": "python",
   "name": "conda-base-py"
  },
  "language_info": {
   "codemirror_mode": {
    "name": "ipython",
    "version": 3
   },
   "file_extension": ".py",
   "mimetype": "text/x-python",
   "name": "python",
   "nbconvert_exporter": "python",
   "pygments_lexer": "ipython3",
   "version": "3.12.7"
  }
 },
 "nbformat": 4,
 "nbformat_minor": 5
}
