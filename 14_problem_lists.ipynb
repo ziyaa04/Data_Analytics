{
 "cells": [
  {
   "cell_type": "markdown",
   "id": "63390315-9638-4b4f-b734-84e53035c509",
   "metadata": {},
   "source": [
    "### Python List Practice Questions"
   ]
  },
  {
   "cell_type": "markdown",
   "id": "065ada60-ff12-4608-9314-dea22df97586",
   "metadata": {},
   "source": [
    "### 1️⃣ Create a List and Print It"
   ]
  },
  {
   "cell_type": "code",
   "execution_count": 4,
   "id": "434f74a8-1911-4936-a7eb-942eb091661b",
   "metadata": {},
   "outputs": [
    {
     "name": "stdout",
     "output_type": "stream",
     "text": [
      "['Apple', 'Banana', 'Cherry', 'Orange', 'Mango']\n"
     ]
    }
   ],
   "source": [
    "# Create a list of five different fruits\n",
    "fruits = ['Apple', 'Banana', 'Cherry', 'Orange', 'Mango']\n",
    "\n",
    "# Print the list\n",
    "print(fruits)"
   ]
  },
  {
   "cell_type": "markdown",
   "id": "b82554f4-e67b-4667-978c-c107f3b2953a",
   "metadata": {},
   "source": [
    "### 2️⃣ Accessing List Elements"
   ]
  },
  {
   "cell_type": "code",
   "execution_count": 7,
   "id": "0c93d57b-03c8-4fee-8f28-cf2f1211df97",
   "metadata": {},
   "outputs": [
    {
     "name": "stdout",
     "output_type": "stream",
     "text": [
      "First element: 10\n",
      "Last element: 50\n"
     ]
    }
   ],
   "source": [
    "numbers = [10, 20, 30, 40, 50]\n",
    "\n",
    "# Print the first element (index 0) and the last element (index -1)\n",
    "print(\"First element:\", numbers[0])\n",
    "print(\"Last element:\", numbers[-1])"
   ]
  },
  {
   "cell_type": "markdown",
   "id": "aaf0e466-257b-4065-99bc-c138d1d25ca2",
   "metadata": {},
   "source": [
    "### 3️⃣ List Slicing"
   ]
  },
  {
   "cell_type": "code",
   "execution_count": 10,
   "id": "eb3ad711-9bd3-4dc4-9e5f-7cf731729c57",
   "metadata": {},
   "outputs": [
    {
     "name": "stdout",
     "output_type": "stream",
     "text": [
      "['red', 'green', 'blue']\n"
     ]
    }
   ],
   "source": [
    "# Given list\n",
    "colors = [\"red\", \"green\", \"blue\", \"yellow\", \"purple\", \"orange\"]\n",
    "\n",
    "# Extract and print the first three elements using slicing\n",
    "first_three_colors = colors[:3]\n",
    "print(first_three_colors)"
   ]
  },
  {
   "cell_type": "markdown",
   "id": "3d47507e-97a4-4bd3-8cb5-d96e96fd4918",
   "metadata": {},
   "source": [
    "### 4️⃣ Modify a List"
   ]
  },
  {
   "cell_type": "code",
   "execution_count": 13,
   "id": "ed3aafcb-fd2c-49a3-b41b-cf7a654abacd",
   "metadata": {},
   "outputs": [
    {
     "data": {
      "text/plain": [
       "2"
      ]
     },
     "execution_count": 13,
     "metadata": {},
     "output_type": "execute_result"
    }
   ],
   "source": [
    "# Create an empty list\n",
    "my_list = []\n",
    "\n",
    "# Append numbers 1, 2, and 3 to the list\n",
    "my_list.append(1)\n",
    "my_list.append(2)\n",
    "my_list.append(3)\n",
    "\n",
    "# Remove the second element (index 1)\n",
    "my_list.pop(1)"
   ]
  },
  {
   "cell_type": "markdown",
   "id": "43634731-4302-4966-8e7d-a3d6cde6c32c",
   "metadata": {},
   "source": [
    "### 6️⃣ Find the Sum of List Elements"
   ]
  },
  {
   "cell_type": "code",
   "execution_count": 19,
   "id": "123063a4-8d89-4425-b485-eb351526e8b5",
   "metadata": {},
   "outputs": [
    {
     "name": "stdout",
     "output_type": "stream",
     "text": [
      "The sum of all elements: 23\n"
     ]
    }
   ],
   "source": [
    "numbers = [4, 7, 1, 8, 3]\n",
    "total_sum = sum(numbers)\n",
    "\n",
    "print(\"The sum of all elements:\", total_sum)"
   ]
  },
  {
   "cell_type": "markdown",
   "id": "697cef5e-f2d2-45e2-8ca2-a98fc7c83753",
   "metadata": {},
   "source": [
    "### 7️⃣ Find the Maximum and Minimum"
   ]
  },
  {
   "cell_type": "code",
   "execution_count": 22,
   "id": "be99bbd0-fc2a-47e6-99c1-7792ab4c5749",
   "metadata": {},
   "outputs": [
    {
     "name": "stdout",
     "output_type": "stream",
     "text": [
      "Maximum value: 89\n",
      "Minimum value: 12\n"
     ]
    }
   ],
   "source": [
    "values = [23, 67, 12, 89, 34, 50]\n",
    "max_value = max(values)\n",
    "min_value = min(values)\n",
    "\n",
    "print(\"Maximum value:\", max_value)\n",
    "print(\"Minimum value:\", min_value)"
   ]
  },
  {
   "cell_type": "markdown",
   "id": "d9213b1a-becf-495b-950c-67a8cd765321",
   "metadata": {},
   "source": [
    "### 8️⃣ Check if an Element Exists"
   ]
  },
  {
   "cell_type": "code",
   "execution_count": 25,
   "id": "ecb60f12-0756-4126-82c7-c357d093e950",
   "metadata": {},
   "outputs": [
    {
     "name": "stdout",
     "output_type": "stream",
     "text": [
      "Found\n"
     ]
    }
   ],
   "source": [
    "fruits = [\"banana\", \"orange\", \"grapes\", \"apple\", \"mango\"]\n",
    "\n",
    "if \"apple\" in fruits:\n",
    "    print(\"Found\")\n",
    "else:\n",
    "    print(\"Not Found\")"
   ]
  },
  {
   "cell_type": "markdown",
   "id": "e1913bad-577c-413e-9d04-1ef87385ec78",
   "metadata": {},
   "source": [
    "### 9️⃣ Reverse a List"
   ]
  },
  {
   "cell_type": "code",
   "execution_count": 28,
   "id": "fa35c804-c1f8-4199-aab0-b6b6c9b0734e",
   "metadata": {},
   "outputs": [
    {
     "name": "stdout",
     "output_type": "stream",
     "text": [
      "['David', 'Charlie', 'Bob', 'Alice']\n"
     ]
    }
   ],
   "source": [
    "names = [\"Alice\", \"Bob\", \"Charlie\", \"David\"]\n",
    "reversed_names = names[::-1]\n",
    "\n",
    "print(reversed_names)"
   ]
  },
  {
   "cell_type": "markdown",
   "id": "1d676727-136c-4544-9601-e8b447836371",
   "metadata": {},
   "source": [
    "### 🔟 List Comprehension"
   ]
  },
  {
   "cell_type": "code",
   "execution_count": 33,
   "id": "05f3c333-5716-497e-977e-d9a19600b6d3",
   "metadata": {},
   "outputs": [
    {
     "name": "stdout",
     "output_type": "stream",
     "text": [
      "[1, 4, 9, 16, 25, 36, 49, 64, 81, 100]\n"
     ]
    }
   ],
   "source": [
    "squares = [x**2 for x in range(1, 11)]\n",
    "\n",
    "print(squares)"
   ]
  },
  {
   "cell_type": "code",
   "execution_count": null,
   "id": "49d27958-25fe-4d87-9d31-427b889a0bd9",
   "metadata": {},
   "outputs": [],
   "source": []
  }
 ],
 "metadata": {
  "kernelspec": {
   "display_name": "Python [conda env:base] *",
   "language": "python",
   "name": "conda-base-py"
  },
  "language_info": {
   "codemirror_mode": {
    "name": "ipython",
    "version": 3
   },
   "file_extension": ".py",
   "mimetype": "text/x-python",
   "name": "python",
   "nbconvert_exporter": "python",
   "pygments_lexer": "ipython3",
   "version": "3.12.7"
  }
 },
 "nbformat": 4,
 "nbformat_minor": 5
}
