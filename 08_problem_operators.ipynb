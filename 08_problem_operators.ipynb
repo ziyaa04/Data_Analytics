{
 "cells": [
  {
   "cell_type": "markdown",
   "id": "37deca47-fda9-4d1f-97a0-d3a669184a92",
   "metadata": {},
   "source": [
    "### Convert 5 and 3 to binary and calculate 5 & 3, 5 | 3, and 5 ^ 3 Write a program to calculate the area of a circle given its radius. (Use the formula area = π * r²)"
   ]
  },
  {
   "cell_type": "code",
   "execution_count": 3,
   "id": "4cf90a79-2bf1-48b9-9d85-75ab6196758e",
   "metadata": {},
   "outputs": [
    {
     "name": "stdout",
     "output_type": "stream",
     "text": [
      "50.24\n"
     ]
    }
   ],
   "source": [
    "radius = 4\n",
    "AoC = 3.14 * (2**radius)\n",
    "print(AoC)"
   ]
  },
  {
   "cell_type": "markdown",
   "id": "4b28eae1-dd9c-4a12-bc0a-e1348bf879cd",
   "metadata": {},
   "source": [
    "### Convert 5 and 3 to binary and calculate 5 & 3, 5 | 3, and 5 ^ 3"
   ]
  },
  {
   "cell_type": "code",
   "execution_count": 6,
   "id": "db0d38f7-0832-49bb-a2fc-53fc065db05b",
   "metadata": {},
   "outputs": [
    {
     "name": "stdout",
     "output_type": "stream",
     "text": [
      "0b101 0b11\n",
      "1\n",
      "6\n"
     ]
    }
   ],
   "source": [
    "a = bin(5)\n",
    "b = bin(3)\n",
    "print(a,b)\n",
    "print(5 & 3)\n",
    "print(5 ^ 3) #XOR\n"
   ]
  },
  {
   "cell_type": "markdown",
   "id": "90b89275-ee77-4705-a6d9-6ac413738b8c",
   "metadata": {},
   "source": [
    "### Write a program that uses +=, -=, *=, and /= to modify a variable.\n"
   ]
  },
  {
   "cell_type": "code",
   "execution_count": 12,
   "id": "3de8278b-5a93-41c5-b59e-b429427fb3b0",
   "metadata": {},
   "outputs": [
    {
     "name": "stdout",
     "output_type": "stream",
     "text": [
      "12\n"
     ]
    }
   ],
   "source": [
    "def performOpt(input):\n",
    "    input +=12\n",
    "    input -=10\n",
    "    input *=1\n",
    "    input /-10\n",
    "    return input\n",
    "\n",
    "print(performOpt(10))"
   ]
  },
  {
   "cell_type": "markdown",
   "id": "20b02fc8-ec61-42f6-bf62-58408a845725",
   "metadata": {},
   "source": [
    "### Question 9: Write a Python program that takes an integer input and:\n",
    "Checks if it’s even or odd using the modulus operator.\n",
    "Verifies if the number is between 10 and 50 using logical operators."
   ]
  },
  {
   "cell_type": "code",
   "execution_count": 20,
   "id": "5fd56e5e-612a-4379-988a-765136614416",
   "metadata": {},
   "outputs": [
    {
     "name": "stdin",
     "output_type": "stream",
     "text": [
      "Enter a number 12\n"
     ]
    },
    {
     "name": "stdout",
     "output_type": "stream",
     "text": [
      "This is a even number\n",
      "This is between the provided range\n"
     ]
    }
   ],
   "source": [
    "number = int(input(\"Enter a number\"))\n",
    "\n",
    "if number%2 ==0:\n",
    "    print(\"This is a even number\")\n",
    "\n",
    "elif number%2 != 0:\n",
    "    print(\"This is a odd number\")\n",
    "\n",
    "if 10 < number <50:\n",
    "    print(\"This is between the provided range\")\n",
    "\n",
    "\n"
   ]
  },
  {
   "cell_type": "code",
   "execution_count": null,
   "id": "ff11e7ab-3612-45f3-a4f1-2f9740fe5aa1",
   "metadata": {},
   "outputs": [],
   "source": []
  }
 ],
 "metadata": {
  "kernelspec": {
   "display_name": "Python [conda env:base] *",
   "language": "python",
   "name": "conda-base-py"
  },
  "language_info": {
   "codemirror_mode": {
    "name": "ipython",
    "version": 3
   },
   "file_extension": ".py",
   "mimetype": "text/x-python",
   "name": "python",
   "nbconvert_exporter": "python",
   "pygments_lexer": "ipython3",
   "version": "3.12.7"
  }
 },
 "nbformat": 4,
 "nbformat_minor": 5
}
