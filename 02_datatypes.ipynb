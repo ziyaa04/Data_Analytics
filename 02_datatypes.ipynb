{
 "cells": [
  {
   "cell_type": "code",
   "execution_count": 7,
   "id": "7a3dba2d-c1b0-4ad3-8d52-aeaf9bd96068",
   "metadata": {},
   "outputs": [
    {
     "name": "stdout",
     "output_type": "stream",
     "text": [
      "{'name': 'ted', 'last': 'talks'}\n"
     ]
    }
   ],
   "source": [
    "# Numeric data\n",
    "num1 = 12\n",
    "num2 = 2.33\n",
    "complexNum = 2 + 3j\n",
    "# print(type(complexNum))\n",
    "# print(type(num1))\n",
    "# print(type(num2))\n",
    "\n",
    "# Text data\n",
    "st1 = \"Hello there\"\n",
    "\n",
    "# Boolean\n",
    "isTrue = True\n",
    "isHealthy = False\n",
    "\n",
    "# Sequenced data\n",
    "\n",
    "# 1. List\n",
    "mixList = [1,2,True,[1,2,3],\"hat\"]\n",
    "# print(mixList)\n",
    "\n",
    "# 2. Tuple\n",
    "tuple1 = (1,2,3)\n",
    "# print(tuple1)\n",
    "\n",
    "tuple2  = ((\"ping\",\"100\"),(\"org\",\"ff\"))\n",
    "\n",
    "# 3. Range\n",
    "r1 = range(1,10,2)\n",
    "# print(list(r1))\n",
    "for i in r1:\n",
    "    i\n",
    "\n",
    "# 4. Dictionary\n",
    "dict1 = {\"name\":\"ted\",\"last\":\"talks\"}\n",
    "print(dict1)\n",
    "\n",
    "# 5. Converting string to bytes\n",
    "str1 = \"This is a string\"\n",
    "arr1 = bytes(str1, 'utf-8')\n",
    "# print(arr1)\n",
    "arr2 = bytes(str1, 'utf-16')\n",
    "# print(arr2)\n",
    "\n",
    "# Creating bytes of given size\n",
    "# bytestr = bytes(4)\n",
    "# print(bytestr)\n",
    "\n",
    "# 6. Set\n",
    "numSet = {1,2,33,4,1,1}\n",
    "# print(numSet)"
   ]
  },
  {
   "cell_type": "markdown",
   "id": "b48d3852-b0e1-4062-b337-957ab142355c",
   "metadata": {},
   "source": [
    "### What are the different data types in Python? Give examples of each\n"
   ]
  },
  {
   "cell_type": "code",
   "execution_count": 10,
   "id": "7b4158cb-91a7-4f89-bf42-294399872878",
   "metadata": {},
   "outputs": [],
   "source": [
    "d1 = \"this is string\" # string\n",
    "d2 = 12 # number\n",
    "d3 = None # use as a placeholder \n",
    "d4 = [1,2,3,4] # list\n",
    "d5 = {\"name\":\"vishal\",\"partner\":\"unknown\"} # dictionary\n",
    "d6 = range(1,5,1) # range\n",
    "d7 = {1,2,3,5,2,2,3} # set\n",
    "d8 = True # boolean\n",
    "d9 = (\"stuff\",\"needs\",\"to\",\"get\",\"done\") # tuple"
   ]
  },
  {
   "cell_type": "markdown",
   "id": "fc0abee1-6509-45a1-aaa3-301eddbea03a",
   "metadata": {},
   "source": [
    "### Identify the data type of the following:"
   ]
  },
  {
   "cell_type": "code",
   "execution_count": 13,
   "id": "85134768-44cd-4c2f-b06f-653b39f26d1a",
   "metadata": {},
   "outputs": [
    {
     "name": "stdout",
     "output_type": "stream",
     "text": [
      "<class 'int'>\n",
      "<class 'float'>\n",
      "<class 'str'>\n",
      "<class 'bool'>\n",
      "<class 'list'>\n",
      "<class 'dict'>\n"
     ]
    }
   ],
   "source": [
    "print(type(42))  # int\n",
    "print(type(3.14))  # float\n",
    "print(type('Hello, world!'))  # str\n",
    "print(type(True))  # bool\n",
    "print(type([1, 2, 3]))  # list\n",
    "print(type({ \"name\": \"Alice\", \"age\": 25 }))  # dict"
   ]
  },
  {
   "cell_type": "markdown",
   "id": "ee46212e-8a2c-4564-926a-eeb3ffa5ee25",
   "metadata": {},
   "source": [
    "### How do you convert a string '123' into an integer?"
   ]
  },
  {
   "cell_type": "code",
   "execution_count": 16,
   "id": "f012593f-fc6a-4d69-9791-6d3060c12efe",
   "metadata": {},
   "outputs": [
    {
     "name": "stdout",
     "output_type": "stream",
     "text": [
      "123\n"
     ]
    },
    {
     "name": "stdin",
     "output_type": "stream",
     "text": [
      "Enter the number 4\n"
     ]
    }
   ],
   "source": [
    "str1 = \"123\"\n",
    "num1 = int(str1)\n",
    "print(num1)\n",
    "num2 = int(input(\"Enter the number\"))"
   ]
  },
  {
   "cell_type": "markdown",
   "id": "9c986a97-60a0-483a-8246-c4ba877afd8f",
   "metadata": {},
   "source": [
    "### Write a Python program to check if a given variable is of type float."
   ]
  },
  {
   "cell_type": "code",
   "execution_count": 19,
   "id": "f5920fce-25d0-46c1-a1f7-d46bc9c660a5",
   "metadata": {},
   "outputs": [
    {
     "name": "stdout",
     "output_type": "stream",
     "text": [
      "True\n"
     ]
    }
   ],
   "source": [
    "def checkTypeIsFloat(input):\n",
    "    return type(input) == float\n",
    "\n",
    "result = checkTypeIsFloat(3.4)\n",
    "print(result)"
   ]
  },
  {
   "cell_type": "markdown",
   "id": "8cc1b98a-82a1-4b8a-9f0f-766318bcfcaa",
   "metadata": {},
   "source": [
    "### Convert the list [1, 2, 3, 4] into a tuple and a set."
   ]
  },
  {
   "cell_type": "code",
   "execution_count": 22,
   "id": "01c04e0c-49e7-4491-957f-70b9b8a69a0b",
   "metadata": {},
   "outputs": [
    {
     "name": "stdout",
     "output_type": "stream",
     "text": [
      "(1, 2, 3, 4)\n",
      "{1, 2, 3, 4}\n"
     ]
    }
   ],
   "source": [
    "l1 = [1, 2, 3, 4]\n",
    "liTup = tuple(l1)\n",
    "liSet = set(l1)\n",
    "\n",
    "print(liTup)\n",
    "print(liSet)"
   ]
  },
  {
   "cell_type": "markdown",
   "id": "4d5c53da-d7ff-4ff6-816c-1b1590183bb7",
   "metadata": {},
   "source": [
    "### Write a Python script to calculate the length of a string provided by the user."
   ]
  },
  {
   "cell_type": "code",
   "execution_count": 25,
   "id": "cdba81ea-3674-48a2-ac50-0abf2a96c18e",
   "metadata": {},
   "outputs": [
    {
     "name": "stdout",
     "output_type": "stream",
     "text": [
      "10\n"
     ]
    }
   ],
   "source": [
    "def cal_length_of_str(input):\n",
    "    return len(input)\n",
    "\n",
    "print(cal_length_of_str(\"here we go\"))"
   ]
  },
  {
   "cell_type": "markdown",
   "id": "4aac006d-a7dd-4c81-864d-8dd66c952eaf",
   "metadata": {},
   "source": [
    "### Create a dictionary to store details of a student (name, age, grade). Retrieve the age from the dictionary."
   ]
  },
  {
   "cell_type": "code",
   "execution_count": 28,
   "id": "ada34824-4970-48c6-8003-1ca6d6f13f5c",
   "metadata": {},
   "outputs": [
    {
     "name": "stdout",
     "output_type": "stream",
     "text": [
      "12\n"
     ]
    }
   ],
   "source": [
    "stud1 = {\n",
    "    \"name\": \"lexy\",\n",
    "    \"age\": 12,\n",
    "    \"grade\": \"A\"\n",
    "}\n",
    "\n",
    "print(stud1[\"age\"])"
   ]
  },
  {
   "cell_type": "code",
   "execution_count": 30,
   "id": "c83cfe5e-200b-4f64-bc6a-b6707e2f44d6",
   "metadata": {},
   "outputs": [
    {
     "name": "stdout",
     "output_type": "stream",
     "text": [
      "True\n"
     ]
    }
   ],
   "source": [
    "# Write a program to check if a variable is mutable or immutable.\n",
    "def checkMutability(input):\n",
    "    return type(input) == tuple or type(input) == str\n",
    "\n",
    "print(checkMutability((\"hey\", \"there\")))\n"
   ]
  },
  {
   "cell_type": "code",
   "execution_count": 34,
   "id": "45a7ff5e-af28-4577-88ee-f7c9ef6e8793",
   "metadata": {},
   "outputs": [
    {
     "name": "stdout",
     "output_type": "stream",
     "text": [
      "True\n"
     ]
    }
   ],
   "source": [
    "#Write a program to check if a variable is mutable or immutable.\n",
    "def checkMutability(input):\n",
    "    return type(input) == tuple or type(input) == str\n",
    "\n",
    "print(checkMutability((\"hey\", \"there\")))\n"
   ]
  },
  {
   "cell_type": "code",
   "execution_count": 38,
   "id": "62884f6e-8dd0-464a-84d6-d97fd26a76b3",
   "metadata": {},
   "outputs": [
    {
     "name": "stdout",
     "output_type": "stream",
     "text": [
      "Binary format of 10 is 0b1010\n",
      "Octal format of 10 is 0o12\n",
      "Hexadecimal format of 10 is 0xa\n"
     ]
    }
   ],
   "source": [
    "#Convert the integer 10 to binary, octal, and hexadecimal formats.\n",
    "num = 10\n",
    "\n",
    "binary = bin(num)\n",
    "print(f\"Binary format of {num} is {binary}\")\n",
    "\n",
    "octal = oct(num)\n",
    "print(f\"Octal format of {num} is {octal}\")\n",
    "\n",
    "hexadecimal = hex(num)\n",
    "print(f\"Hexadecimal format of {num} is {hexadecimal}\")\n"
   ]
  },
  {
   "cell_type": "code",
   "execution_count": 40,
   "id": "8f8751da-d98e-4f13-942b-a48ff80e33c1",
   "metadata": {},
   "outputs": [
    {
     "name": "stdout",
     "output_type": "stream",
     "text": [
      "12 10\n"
     ]
    }
   ],
   "source": [
    "#Write a Python program to swap two numbers using tuple unpacking.\n",
    "a = 10\n",
    "b = 12\n",
    "a, b = b, a\n",
    "print(a, b)"
   ]
  },
  {
   "cell_type": "code",
   "execution_count": null,
   "id": "ec82a664-d2ee-4c55-84e1-a7703cb521e3",
   "metadata": {},
   "outputs": [],
   "source": []
  }
 ],
 "metadata": {
  "kernelspec": {
   "display_name": "Python [conda env:base] *",
   "language": "python",
   "name": "conda-base-py"
  },
  "language_info": {
   "codemirror_mode": {
    "name": "ipython",
    "version": 3
   },
   "file_extension": ".py",
   "mimetype": "text/x-python",
   "name": "python",
   "nbconvert_exporter": "python",
   "pygments_lexer": "ipython3",
   "version": "3.12.7"
  }
 },
 "nbformat": 4,
 "nbformat_minor": 5
}
