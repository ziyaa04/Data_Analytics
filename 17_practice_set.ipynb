{
 "cells": [
  {
   "cell_type": "markdown",
   "id": "be9248fc-465e-49e1-a34b-3116923c32a6",
   "metadata": {},
   "source": [
    "### Python Sets - Practice Questions\n"
   ]
  },
  {
   "cell_type": "markdown",
   "id": "92758f3c-8ca5-4fda-b431-fec805153db3",
   "metadata": {},
   "source": [
    "### 1. Create a set named fruits containing \"apple\", \"banana\", and \"cherry\"."
   ]
  },
  {
   "cell_type": "code",
   "execution_count": 3,
   "id": "10be0a89-c5cc-443f-9a98-9df8fcdca6f9",
   "metadata": {},
   "outputs": [
    {
     "name": "stdout",
     "output_type": "stream",
     "text": [
      "{'apple', 'cherry', 'banana'}\n"
     ]
    }
   ],
   "source": [
    "fruits = {\"apple\", \"banana\", \"cherry\"}\n",
    "print(fruits)"
   ]
  },
  {
   "cell_type": "markdown",
   "id": "3dcd6b43-39a9-44f4-aaad-2e3c8c609a2d",
   "metadata": {},
   "source": [
    "### 2. Add \"orange\" to the fruits set."
   ]
  },
  {
   "cell_type": "code",
   "execution_count": 6,
   "id": "c6e0e5e3-66b9-4917-8281-ae683919da2a",
   "metadata": {},
   "outputs": [
    {
     "name": "stdout",
     "output_type": "stream",
     "text": [
      "{'apple', 'cherry', 'banana', 'orange'}\n"
     ]
    }
   ],
   "source": [
    "fruits.add(\"orange\")\n",
    "print(fruits)"
   ]
  },
  {
   "cell_type": "markdown",
   "id": "ccf5d5d9-5a12-4595-ad8b-e529ba286ae1",
   "metadata": {},
   "source": [
    "### 3. Remove \"banana\" from the fruits set."
   ]
  },
  {
   "cell_type": "code",
   "execution_count": 9,
   "id": "b51aa193-3b6b-47d5-9cda-111f0baf46bd",
   "metadata": {},
   "outputs": [
    {
     "name": "stdout",
     "output_type": "stream",
     "text": [
      "{'apple', 'cherry', 'orange'}\n"
     ]
    }
   ],
   "source": [
    "fruits.remove(\"banana\")\n",
    "print(fruits)"
   ]
  },
  {
   "cell_type": "markdown",
   "id": "c1b2c406-aa83-4705-a73c-483edaf32245",
   "metadata": {},
   "source": [
    "### 4. Create two sets:\n",
    "A = {1, 2, 3, 4, 5}\n",
    "B = {4, 5, 6, 7, 8}\n",
    "Find the union of A and B."
   ]
  },
  {
   "cell_type": "code",
   "execution_count": 12,
   "id": "30b94a6f-e5c0-40e0-9e28-7caed43e97e0",
   "metadata": {},
   "outputs": [
    {
     "name": "stdout",
     "output_type": "stream",
     "text": [
      "{1, 2, 3, 4, 5, 6, 7, 8}\n"
     ]
    }
   ],
   "source": [
    "A = {1, 2, 3, 4, 5}\n",
    "B = {4, 5, 6, 7, 8}\n",
    "\n",
    "union_set = A | B \n",
    "\n",
    "print(union_set)"
   ]
  },
  {
   "cell_type": "markdown",
   "id": "d32c5e40-f255-485a-8795-450dcb8a6841",
   "metadata": {},
   "source": [
    "### 5. Find the intersection of A and B."
   ]
  },
  {
   "cell_type": "code",
   "execution_count": 15,
   "id": "cfadab5e-39a6-4ce7-b8e0-8c8963916738",
   "metadata": {},
   "outputs": [
    {
     "name": "stdout",
     "output_type": "stream",
     "text": [
      "{4, 5}\n"
     ]
    }
   ],
   "source": [
    "intersection_set = A & B \n",
    "\n",
    "print(intersection_set)"
   ]
  },
  {
   "cell_type": "markdown",
   "id": "1a97c62d-92be-4bbb-b8b9-7e24b1d85e37",
   "metadata": {},
   "source": [
    "### 6. Find the difference between A and B.\n"
   ]
  },
  {
   "cell_type": "code",
   "execution_count": 18,
   "id": "fbeada2c-df51-421b-8ef2-f327f98ec270",
   "metadata": {},
   "outputs": [
    {
     "name": "stdout",
     "output_type": "stream",
     "text": [
      "{1, 2, 3}\n"
     ]
    }
   ],
   "source": [
    "difference_set = A - B \n",
    "\n",
    "print(difference_set)"
   ]
  },
  {
   "cell_type": "markdown",
   "id": "99508d66-b807-448f-ac31-bd38f636364d",
   "metadata": {},
   "source": [
    "### 7. Find the symmetric difference between A and B.\n"
   ]
  },
  {
   "cell_type": "code",
   "execution_count": 21,
   "id": "738974f2-bc15-4bc8-8ec5-9b0cea0492ab",
   "metadata": {},
   "outputs": [
    {
     "name": "stdout",
     "output_type": "stream",
     "text": [
      "{1, 2, 3, 6, 7, 8}\n"
     ]
    }
   ],
   "source": [
    "symmetric_difference_set = A ^ B  \n",
    "\n",
    "print(symmetric_difference_set)"
   ]
  },
  {
   "cell_type": "markdown",
   "id": "fd7cc3ce-25e4-4398-9ddd-3db7456e7424",
   "metadata": {},
   "source": [
    "### 8. Check if A is a subset of {1, 2, 3, 4, 5, 6, 7, 8, 9}.\n"
   ]
  },
  {
   "cell_type": "code",
   "execution_count": 24,
   "id": "fa35f01a-a3ac-4e7c-b7e5-dd48cfb46b5c",
   "metadata": {},
   "outputs": [
    {
     "name": "stdout",
     "output_type": "stream",
     "text": [
      "True\n"
     ]
    }
   ],
   "source": [
    "A = {1, 2, 3, 4, 5}\n",
    "larger_set = {1, 2, 3, 4, 5, 6, 7, 8, 9}\n",
    "\n",
    "# Checking if A is a subset of the larger set\n",
    "is_subset = A.issubset(larger_set)  # or use A <= larger_set\n",
    "\n",
    "print(is_subset)"
   ]
  },
  {
   "cell_type": "markdown",
   "id": "ecaa9874-6dc9-402d-ad1f-6009c41766cd",
   "metadata": {},
   "source": [
    "### 9. Check if {4, 5} is a subset of A.\n"
   ]
  },
  {
   "cell_type": "code",
   "execution_count": 27,
   "id": "aaeb8212-0f19-4e21-b93b-aa15073371b3",
   "metadata": {},
   "outputs": [
    {
     "name": "stdout",
     "output_type": "stream",
     "text": [
      "True\n"
     ]
    }
   ],
   "source": [
    "A = {1, 2, 3, 4, 5}\n",
    "is_subset = {4, 5}.issubset(A) \n",
    "\n",
    "print(is_subset)"
   ]
  },
  {
   "cell_type": "markdown",
   "id": "0a4369eb-742d-4da3-8868-8a80af33f37f",
   "metadata": {},
   "source": [
    "### 10. Create an empty set and check its type.\n"
   ]
  },
  {
   "cell_type": "code",
   "execution_count": 30,
   "id": "415bbae4-c211-40dc-a2f3-0d7a11fb0a21",
   "metadata": {},
   "outputs": [
    {
     "name": "stdout",
     "output_type": "stream",
     "text": [
      "<class 'set'>\n"
     ]
    }
   ],
   "source": [
    "empty_set = set()\n",
    "\n",
    "print(type(empty_set))"
   ]
  },
  {
   "cell_type": "markdown",
   "id": "578b5847-426a-4b01-88b8-50ab2182f596",
   "metadata": {},
   "source": [
    "### 11. Convert the list [1, 2, 3, 1, 2, 4, 5, 6, 5] into a set and print the result."
   ]
  },
  {
   "cell_type": "code",
   "execution_count": 33,
   "id": "ddd91ae3-dc5f-4a25-983e-478b21ee621c",
   "metadata": {},
   "outputs": [
    {
     "name": "stdout",
     "output_type": "stream",
     "text": [
      "{1, 2, 3, 4, 5, 6}\n"
     ]
    }
   ],
   "source": [
    "my_list = [1, 2, 3, 1, 2, 4, 5, 6, 5]\n",
    "my_set = set(my_list)\n",
    "\n",
    "print(my_set)"
   ]
  },
  {
   "cell_type": "markdown",
   "id": "6d1dfb0b-09a1-43de-8cac-46926c572793",
   "metadata": {},
   "source": [
    "### 12. Iterate over a set containing {\"Python\", \"Java\", \"C++\"} and print each element."
   ]
  },
  {
   "cell_type": "code",
   "execution_count": 36,
   "id": "89c2a1d9-88fd-4360-bee0-730b77cb2428",
   "metadata": {},
   "outputs": [
    {
     "name": "stdout",
     "output_type": "stream",
     "text": [
      "C++\n",
      "Python\n",
      "Java\n"
     ]
    }
   ],
   "source": [
    "languages = {\"Python\", \"Java\", \"C++\"}\n",
    "\n",
    "for language in languages:\n",
    "    print(language)"
   ]
  },
  {
   "cell_type": "code",
   "execution_count": null,
   "id": "1fb6abaf-068f-42a2-9c33-0edefaec6f05",
   "metadata": {},
   "outputs": [],
   "source": []
  }
 ],
 "metadata": {
  "kernelspec": {
   "display_name": "Python [conda env:base] *",
   "language": "python",
   "name": "conda-base-py"
  },
  "language_info": {
   "codemirror_mode": {
    "name": "ipython",
    "version": 3
   },
   "file_extension": ".py",
   "mimetype": "text/x-python",
   "name": "python",
   "nbconvert_exporter": "python",
   "pygments_lexer": "ipython3",
   "version": "3.12.7"
  }
 },
 "nbformat": 4,
 "nbformat_minor": 5
}
