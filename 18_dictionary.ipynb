{
 "cells": [
  {
   "cell_type": "markdown",
   "id": "84c5b265-4dd7-4be5-a4f4-5c02a7568fb5",
   "metadata": {},
   "source": [
    "### 🎈Dictionary\n",
    "🍭basics"
   ]
  },
  {
   "cell_type": "code",
   "execution_count": 2,
   "id": "521680ce-e052-432b-90f1-5e0b61e0e31d",
   "metadata": {},
   "outputs": [
    {
     "name": "stdout",
     "output_type": "stream",
     "text": [
      "{'name': 'Karan', 'age': 19, 'eligible': True}\n"
     ]
    }
   ],
   "source": [
    "info = {'name':'Karan', 'age':19, 'eligible':True}\n",
    "print(info)"
   ]
  },
  {
   "cell_type": "markdown",
   "id": "3e1dca52-41ea-4c0a-b8e3-702e3c6dc0d9",
   "metadata": {},
   "source": [
    "### 🍭Accessing Dictionary items\n"
   ]
  },
  {
   "cell_type": "code",
   "execution_count": 5,
   "id": "d0bd179f-3129-46b1-ad89-79a29a374b11",
   "metadata": {},
   "outputs": [
    {
     "name": "stdout",
     "output_type": "stream",
     "text": [
      "Karan\n",
      "19\n",
      "dict_values(['Karan', 19, True])\n",
      "dict_keys(['name', 'age', 'eligible'])\n",
      "dict_items([('name', 'Karan'), ('age', 19), ('eligible', True)])\n"
     ]
    }
   ],
   "source": [
    "info = {'name':'Karan', 'age':19, 'eligible':True}\n",
    "print(info[\"name\"])\n",
    "print(info.get(\"age\"))\n",
    "\n",
    "#accessing all values\n",
    "print(info.values())\n",
    "\n",
    "#accessing all keys\n",
    "print(info.keys())\n",
    "\n",
    "#asceesing al key-value pairs\n",
    "print(info.items())"
   ]
  },
  {
   "cell_type": "markdown",
   "id": "c508a276-0644-46cf-8544-bc2e4c924763",
   "metadata": {},
   "source": [
    "### 🍭Adding items in Dictionary\n"
   ]
  },
  {
   "cell_type": "code",
   "execution_count": 8,
   "id": "0b315bc4-ddd9-44ae-8cc0-87e0b8babadb",
   "metadata": {},
   "outputs": [
    {
     "name": "stdout",
     "output_type": "stream",
     "text": [
      "{'name': 'mohit', 'age': 19, 'eligible': True, 'grade': 'A'}\n",
      "{'name': 'mohit', 'age': 20, 'eligible': True, 'grade': 'A', 'sport': 'cricket'}\n"
     ]
    }
   ],
   "source": [
    "info = {'name':'Karan', 'age':19, 'eligible':True}\n",
    "info[\"name\"] = \"mohit\"\n",
    "info[\"grade\"] = \"A\"\n",
    "print(info)\n",
    "info.update({\"age\":20})\n",
    "info.update({\"sport\":\"cricket\"})\n",
    "print(info)"
   ]
  },
  {
   "cell_type": "markdown",
   "id": "b2329862-df4e-42db-b80b-31fee8597675",
   "metadata": {},
   "source": [
    "### 🍭 Removing items in Dictionary\n"
   ]
  },
  {
   "cell_type": "code",
   "execution_count": 11,
   "id": "040283bb-45cc-4fd3-9212-ea6131e04661",
   "metadata": {},
   "outputs": [
    {
     "name": "stdout",
     "output_type": "stream",
     "text": [
      "{'name': 'Karan', 'age': 19, 'eligible': True}\n"
     ]
    }
   ],
   "source": [
    "info = {'name':'Karan', 'age':19, 'eligible':True}\n",
    "# info.pop(\"name\") # here you can specify key \n",
    "# info.popitem() # here last key-value pair get's removed\n",
    "# del info[\"age\"]\n",
    "# info.clear()\n",
    "print(info)"
   ]
  },
  {
   "cell_type": "markdown",
   "id": "b243e029-baa3-4863-8db4-532925f27dc7",
   "metadata": {},
   "source": [
    "### 🍭 Copy in Dictionary\n"
   ]
  },
  {
   "cell_type": "code",
   "execution_count": 14,
   "id": "3ed22bab-3e28-4419-a34a-231bd80fe3d9",
   "metadata": {},
   "outputs": [],
   "source": [
    "info = {'name':'Karan', 'age':19, 'eligible':True}\n",
    "info2 = info.copy()\n",
    "info3 = dict(info)\n",
    "# print(info2, info3)"
   ]
  },
  {
   "cell_type": "code",
   "execution_count": null,
   "id": "d2df7862-b81f-478f-9c70-d8abaf81fef4",
   "metadata": {},
   "outputs": [],
   "source": []
  }
 ],
 "metadata": {
  "kernelspec": {
   "display_name": "Python [conda env:base] *",
   "language": "python",
   "name": "conda-base-py"
  },
  "language_info": {
   "codemirror_mode": {
    "name": "ipython",
    "version": 3
   },
   "file_extension": ".py",
   "mimetype": "text/x-python",
   "name": "python",
   "nbconvert_exporter": "python",
   "pygments_lexer": "ipython3",
   "version": "3.12.7"
  }
 },
 "nbformat": 4,
 "nbformat_minor": 5
}
