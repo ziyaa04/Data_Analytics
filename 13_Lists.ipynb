{
 "cells": [
  {
   "cell_type": "markdown",
   "id": "f91a6390-b04a-4836-8ab7-363fe4fded76",
   "metadata": {},
   "source": [
    "### Basics of list"
   ]
  },
  {
   "cell_type": "code",
   "execution_count": 2,
   "id": "69599908-939f-4c2a-a57c-9e79596c234e",
   "metadata": {},
   "outputs": [
    {
     "name": "stdout",
     "output_type": "stream",
     "text": [
      "1\n",
      "[4, 3, 2, 1]\n",
      "True\n"
     ]
    }
   ],
   "source": [
    "list1 = [1,2,3,4]\n",
    "#accessing the string using array notation\n",
    "\n",
    "print(list1[0])\n",
    "print(list1[::-1])\n",
    "#same as of string slicing\n",
    "\n",
    "#cheking the item present in list using in operator\n",
    "print(1 in list1)"
   ]
  },
  {
   "cell_type": "markdown",
   "id": "70c849c8-aaed-482a-ba5b-1b9578eb4b81",
   "metadata": {},
   "source": [
    "### List adding methods"
   ]
  },
  {
   "cell_type": "code",
   "execution_count": 7,
   "id": "3c2b4269-c035-43d1-9038-14aa79f056c0",
   "metadata": {},
   "outputs": [
    {
     "name": "stdout",
     "output_type": "stream",
     "text": [
      "['first', 'second', 'third', 100]\n"
     ]
    }
   ],
   "source": [
    "list2 = [\"first\",\"second\", \"third\"]\n",
    "# list2.append(\"fourth\")\n",
    "# list2.append(5)\n",
    "list2.insert(3,100)\n",
    "# arr1.extend([6,7,8,9])\n",
    "print(list2)"
   ]
  },
  {
   "cell_type": "markdown",
   "id": "0828bc33-1743-4314-9b90-f69aaeae9f16",
   "metadata": {},
   "source": [
    "### List Deleting methods"
   ]
  },
  {
   "cell_type": "code",
   "execution_count": 18,
   "id": "ec4da3ef-b4d0-4e8b-ae49-d21b32a15aaa",
   "metadata": {},
   "outputs": [
    {
     "name": "stdout",
     "output_type": "stream",
     "text": [
      "4\n",
      "1\n",
      "['sugar', 'milk', 'berries']\n",
      "['milk', 'berries']\n",
      "[]\n"
     ]
    }
   ],
   "source": [
    "list3 = [1,2,3,4]\n",
    "print(list3.pop())\n",
    "print(list3.pop(0))\n",
    "list4 = [\"sugar\",\"milk\",\"berries\",\"donut\"]\n",
    "list4.remove(\"donut\")\n",
    "print(list4)\n",
    "del list4[0]\n",
    "print(list4)\n",
    "list4.clear()\n",
    "print(list4)\n"
   ]
  },
  {
   "cell_type": "markdown",
   "id": "8c3e4283-1acb-4eba-8646-0e603ac03f98",
   "metadata": {},
   "source": [
    "### Changing list Items"
   ]
  },
  {
   "cell_type": "code",
   "execution_count": 35,
   "id": "c23f860f-86a1-409c-ad60-8c0c86edaef6",
   "metadata": {},
   "outputs": [
    {
     "name": "stdout",
     "output_type": "stream",
     "text": [
      "['newFirst', 'newSecond', 'fourth']\n"
     ]
    }
   ],
   "source": [
    "# We can use index to change the list items\n",
    "list5 = [\"first\",\"second\",\"third\",\"fourth\"]\n",
    "#list5[0] = \"newFirst\"\n",
    "#list5[0:2] = [\"newFirst\",\"newSecond\"]\n",
    "#list5[0:2] = [\"newFirst\",\"newSecond\",\"newThird\"]\n",
    "list5[0:3] = [\"newFirst\",\"newSecond\"]\n",
    "print(list5)"
   ]
  },
  {
   "cell_type": "markdown",
   "id": "658bb075-f3a6-4da6-a73a-56670c94c7e8",
   "metadata": {},
   "source": [
    "### List comprehension"
   ]
  },
  {
   "cell_type": "code",
   "execution_count": 44,
   "id": "cb14a48e-4dc2-4446-9cea-9219b5801955",
   "metadata": {},
   "outputs": [
    {
     "name": "stdout",
     "output_type": "stream",
     "text": [
      "['SARAH', 'BRUNO', 'ANASTASIA']\n"
     ]
    }
   ],
   "source": [
    "# Creating list from other iterables like tuple, set, string or other list\n",
    "names = [\"Milo\", \"Sarah\", \"Bruno\", \"Anastasia\", \"Rosa\"]\n",
    "new_names_list = [item.upper() for item in names if len(item)>=5]\n",
    "\n",
    "print(new_names_list)"
   ]
  },
  {
   "cell_type": "markdown",
   "id": "3eed4478-f3b0-4af8-8fbc-bc43772dd4fc",
   "metadata": {},
   "source": [
    "### Usefull list methods"
   ]
  },
  {
   "cell_type": "code",
   "execution_count": 71,
   "id": "95ea7547-c985-4028-bebb-e0ae73024804",
   "metadata": {},
   "outputs": [
    {
     "name": "stdout",
     "output_type": "stream",
     "text": [
      "2\n",
      "1\n"
     ]
    }
   ],
   "source": [
    "list6 = [23,10,3,1,44,10]\n",
    "list6.sort()\n",
    "#list6.reverse()\n",
    "print(list6.count(10))\n",
    "print(list6.index(3))\n",
    "#print(list6)\n",
    "#list7 = list6.copy()\n"
   ]
  },
  {
   "cell_type": "code",
   "execution_count": null,
   "id": "ca332002-d7c8-44ca-9424-13fcd8b2b0a8",
   "metadata": {},
   "outputs": [],
   "source": []
  }
 ],
 "metadata": {
  "kernelspec": {
   "display_name": "Python [conda env:base] *",
   "language": "python",
   "name": "conda-base-py"
  },
  "language_info": {
   "codemirror_mode": {
    "name": "ipython",
    "version": 3
   },
   "file_extension": ".py",
   "mimetype": "text/x-python",
   "name": "python",
   "nbconvert_exporter": "python",
   "pygments_lexer": "ipython3",
   "version": "3.12.7"
  }
 },
 "nbformat": 4,
 "nbformat_minor": 5
}
