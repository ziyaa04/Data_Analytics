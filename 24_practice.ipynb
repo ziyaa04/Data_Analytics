{
 "cells": [
  {
   "cell_type": "markdown",
   "id": "e6093c9a-7b9e-413b-b83c-49a42797a283",
   "metadata": {},
   "source": [
    "### 🎈Funtions\n",
    "🍭basic"
   ]
  },
  {
   "cell_type": "code",
   "execution_count": 2,
   "id": "06a5ed9b-e320-42d1-894b-71bdecd35356",
   "metadata": {},
   "outputs": [
    {
     "name": "stdout",
     "output_type": "stream",
     "text": [
      "It's working\n"
     ]
    }
   ],
   "source": [
    "# define a function\n",
    "def its_working(input): \n",
    "    if(input):\n",
    "        print(\"It's working\")\n",
    "    else:\n",
    "        print(\"It's not working\")\n",
    "\n",
    "#call the function using-> ()\n",
    "its_working(True)"
   ]
  },
  {
   "cell_type": "markdown",
   "id": "3e810df5-351a-4df6-9841-657b421f5d05",
   "metadata": {},
   "source": [
    "### 🍭Function arguments"
   ]
  },
  {
   "cell_type": "code",
   "execution_count": 5,
   "id": "9451c469-859a-46e0-81a2-39c329ff84f2",
   "metadata": {},
   "outputs": [
    {
     "name": "stdout",
     "output_type": "stream",
     "text": [
      "jake joseph \n",
      "jake joseph\n",
      "jake joseph\n",
      "Hello, jake joseph paul\n",
      "jake joseph paul "
     ]
    }
   ],
   "source": [
    "#DEFAULT ARGUMENTS\n",
    "\n",
    "#if we did not provide the default values then the arguments becomes required\n",
    "def print_full_name(fname=\"ana\", mname= \"de\",lname=\"armas\"): \n",
    "    print(f\"hello, {fname} {mname} {lname}\")\n",
    "\n",
    "# print_full_name(\"jake\",\"joseph\",\"paul\")\n",
    "# print_full_name(\"jake\")\n",
    "\n",
    "#KEYWORD ARGUMENTS\n",
    "\n",
    "# print_full_name(lname = \"paul\",fname=\"jake\")\n",
    "# print_full_name(\"paul\",\"jake\")\n",
    "\n",
    "#VARIABLE-LENGTH-ARGUMENTS\n",
    "\n",
    "#1:ARBITRARY ARGUMENTS\n",
    "\n",
    "def print_name(*name):\n",
    "#     print(name[0],name[1],name[2]) # error prone\n",
    "    statement = \"\"\n",
    "    for i in name:\n",
    "        statement+=i\n",
    "        statement+=\" \"\n",
    "    print(statement)\n",
    "    print(*name[:3]) #using unpacking operator\n",
    "    print(\" \".join(name))\n",
    "print_name(\"jake\",\"joseph\" )\n",
    "\n",
    "#2:KEYWORD ARBITRARY ARGUMENT\n",
    "\n",
    "def print_name2(**name):\n",
    "    print(\"Hello,\", name.get(\"fname\", \"Unknown\"), name.get(\"mname\", \"\"), name.get(\"lname\", \"Unknown\"))\n",
    "#     print(*name) #here we are unpacking the dictionary\n",
    "    for i in name.values():\n",
    "        print(i,end=\" \")\n",
    "print_name2(fname=\"jake\",mname=\"joseph\",lname=\"paul\")\n",
    "\n",
    "#if we want to put both *args and **kwargs first should be *args"
   ]
  },
  {
   "cell_type": "markdown",
   "id": "97f10313-9ded-4dda-a7ce-61c86f321f4b",
   "metadata": {},
   "source": [
    "### 🍭 Recursion in python\n"
   ]
  },
  {
   "cell_type": "code",
   "execution_count": 8,
   "id": "120ba9e9-c53f-46f8-8133-bb68ff5894cb",
   "metadata": {},
   "outputs": [
    {
     "name": "stdout",
     "output_type": "stream",
     "text": [
      "6\n"
     ]
    }
   ],
   "source": [
    "#Make the function to find factorial of number\n",
    "def fact_num(num):\n",
    "    if(num ==1 or num ==0):\n",
    "        return num\n",
    "    else:\n",
    "        return num * fact_num(num-1)\n",
    "\n",
    "print(fact_num(3))"
   ]
  },
  {
   "cell_type": "code",
   "execution_count": null,
   "id": "7d3cff6b-9438-48dc-8564-e598d3e96db0",
   "metadata": {},
   "outputs": [],
   "source": []
  }
 ],
 "metadata": {
  "kernelspec": {
   "display_name": "Python [conda env:base] *",
   "language": "python",
   "name": "conda-base-py"
  },
  "language_info": {
   "codemirror_mode": {
    "name": "ipython",
    "version": 3
   },
   "file_extension": ".py",
   "mimetype": "text/x-python",
   "name": "python",
   "nbconvert_exporter": "python",
   "pygments_lexer": "ipython3",
   "version": "3.12.7"
  }
 },
 "nbformat": 4,
 "nbformat_minor": 5
}
