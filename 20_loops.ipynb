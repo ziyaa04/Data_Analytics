{
 "cells": [
  {
   "cell_type": "markdown",
   "id": "6c0a5f7a-a35b-4ba1-8a86-67c011ffa4e6",
   "metadata": {},
   "source": [
    "### 🎈 Loops\n",
    "🍭Iterate over sequenced variables"
   ]
  },
  {
   "cell_type": "code",
   "execution_count": 12,
   "id": "922a7cf9-98be-4cc4-8e51-b1ac665ef012",
   "metadata": {},
   "outputs": [
    {
     "name": "stdout",
     "output_type": "stream",
     "text": [
      "a,b,h,i,s,h,e,k,january february march may "
     ]
    }
   ],
   "source": [
    "name = \"abhishek\"\n",
    "for i in name:\n",
    "    print(i, end = \",\")\n",
    "\n",
    "tup1 = (\"january\",\"february\",\"march\",\"may\")\n",
    "for i in tup1:\n",
    "    print(i,end=\" \")\n",
    "    \n",
    "#using loop to print table of 2\n",
    "#for i in range(1,11):\n",
    "#     print(f\"{i} X {2} : {i*2}\")"
   ]
  },
  {
   "cell_type": "markdown",
   "id": "45469cc2-0da3-46ad-9704-6810a4209af6",
   "metadata": {},
   "source": [
    "### 🍭Iterate using range"
   ]
  },
  {
   "cell_type": "code",
   "execution_count": 19,
   "id": "d0acc014-91fd-4c04-a309-8090089e9b55",
   "metadata": {},
   "outputs": [
    {
     "name": "stdout",
     "output_type": "stream",
     "text": [
      "1 3 5 7 9 "
     ]
    }
   ],
   "source": [
    "#for i in range(10):\n",
    "#    print(i, end=\" \")\n",
    "for i in range(1,10,2):\n",
    "    print(i , end = \" \")"
   ]
  },
  {
   "cell_type": "markdown",
   "id": "9903516c-0754-49f9-9fdd-8f013c394ab1",
   "metadata": {},
   "source": [
    "### 🍭while loop"
   ]
  },
  {
   "cell_type": "code",
   "execution_count": 22,
   "id": "ecbdce15-45df-402e-89d7-bbfe6e6d7511",
   "metadata": {},
   "outputs": [
    {
     "name": "stdout",
     "output_type": "stream",
     "text": [
      "5\n",
      "4\n",
      "3\n",
      "2\n",
      "1\n",
      "counter is 0\n"
     ]
    }
   ],
   "source": [
    "count = 5\n",
    "while(count>0):\n",
    "    print(count)\n",
    "    count = count-1 \n",
    "else:\n",
    "    print(\"counter is 0\")"
   ]
  },
  {
   "cell_type": "markdown",
   "id": "e690d4bc-76ae-46f3-80b1-722b66a244b9",
   "metadata": {},
   "source": [
    "### 🍭nested loop\n"
   ]
  },
  {
   "cell_type": "code",
   "execution_count": 25,
   "id": "3ef1e646-f5ee-42cc-94fe-88716d0b4c0c",
   "metadata": {},
   "outputs": [
    {
     "name": "stdout",
     "output_type": "stream",
     "text": [
      "1 X 1 :1\n",
      "1 X 2 :2\n",
      "1 X 3 :3\n",
      "2 X 1 :2\n",
      "2 X 2 :4\n",
      "2 X 3 :6\n",
      "3 X 1 :3\n",
      "3 X 2 :6\n",
      "3 X 3 :9\n"
     ]
    }
   ],
   "source": [
    "for i in range(1,4):\n",
    "    for j in range(1,4):\n",
    "        print(f\"{i} X {j} :{i*j}\")"
   ]
  },
  {
   "cell_type": "markdown",
   "id": "6647f354-f05e-488f-8bcc-2afef4c9666c",
   "metadata": {},
   "source": [
    "### 🍭Control flow statement\n"
   ]
  },
  {
   "cell_type": "code",
   "execution_count": 43,
   "id": "2c8c7a03-bbb7-4363-884f-82c94b9b26ae",
   "metadata": {},
   "outputs": [],
   "source": [
    "#using pass\n",
    "i = 10\n",
    "for i in range(10):\n",
    "    pass \n",
    "    \n",
    "    if(i<10):\n",
    "        pass\n",
    "        def do_something():\n",
    "            pass\n",
    "#continue\n",
    "            for i in range(10):\n",
    "                if(i<5):\n",
    "                    continue\n",
    "                    print(i)\n",
    "                    count2 = 0\n",
    "                    while(True):\n",
    "                        count +=1 \n",
    "                        if(count==10):\n",
    "                            break"
   ]
  },
  {
   "cell_type": "code",
   "execution_count": null,
   "id": "c701b2d2-0d65-46a0-8b07-9aae515fd09c",
   "metadata": {},
   "outputs": [],
   "source": []
  }
 ],
 "metadata": {
  "kernelspec": {
   "display_name": "Python [conda env:base] *",
   "language": "python",
   "name": "conda-base-py"
  },
  "language_info": {
   "codemirror_mode": {
    "name": "ipython",
    "version": 3
   },
   "file_extension": ".py",
   "mimetype": "text/x-python",
   "name": "python",
   "nbconvert_exporter": "python",
   "pygments_lexer": "ipython3",
   "version": "3.12.7"
  }
 },
 "nbformat": 4,
 "nbformat_minor": 5
}
