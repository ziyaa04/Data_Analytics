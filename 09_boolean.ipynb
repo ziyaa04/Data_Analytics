{
 "cells": [
  {
   "cell_type": "code",
   "execution_count": 1,
   "id": "9950db72-4b14-4632-b6c3-a3649aadb6b1",
   "metadata": {},
   "outputs": [
    {
     "name": "stdout",
     "output_type": "stream",
     "text": [
      "False\n",
      "False\n",
      "False\n",
      "False\n",
      "False\n",
      "False\n",
      "False\n"
     ]
    }
   ],
   "source": [
    "# falsy values\n",
    "\n",
    "print(bool(None))\n",
    "print(bool(\"\"))\n",
    "print(bool(False))\n",
    "print(bool(0))\n",
    "print(bool([]))\n",
    "print(bool({}))\n",
    "print(bool(()))"
   ]
  },
  {
   "cell_type": "code",
   "execution_count": null,
   "id": "5666afca-ae08-4c44-a5e4-c156ad5db861",
   "metadata": {},
   "outputs": [],
   "source": []
  }
 ],
 "metadata": {
  "kernelspec": {
   "display_name": "Python [conda env:base] *",
   "language": "python",
   "name": "conda-base-py"
  },
  "language_info": {
   "codemirror_mode": {
    "name": "ipython",
    "version": 3
   },
   "file_extension": ".py",
   "mimetype": "text/x-python",
   "name": "python",
   "nbconvert_exporter": "python",
   "pygments_lexer": "ipython3",
   "version": "3.12.7"
  }
 },
 "nbformat": 4,
 "nbformat_minor": 5
}
