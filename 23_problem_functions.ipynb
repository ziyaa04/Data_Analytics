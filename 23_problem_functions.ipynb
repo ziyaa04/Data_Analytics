{
 "cells": [
  {
   "cell_type": "markdown",
   "id": "d6bcd803-3301-4891-9003-c009887a54b0",
   "metadata": {},
   "source": [
    "### Python Functions - Practice Questions\n",
    "1. Write a function greet(name) that takes a name as input and prints \"Hello, {name}!\"."
   ]
  },
  {
   "cell_type": "code",
   "execution_count": 12,
   "id": "a625eb6c-a71a-4712-9883-fb2b0b2bdad2",
   "metadata": {},
   "outputs": [],
   "source": [
    "def greet(name):\n",
    "    print(f\"Hello, {name}!\")\n"
   ]
  },
  {
   "cell_type": "markdown",
   "id": "247ab332-5a13-4242-ac16-609d22395c76",
   "metadata": {},
   "source": [
    "### 2. Write a function add(a, b) that returns the sum of two numbers.\n"
   ]
  },
  {
   "cell_type": "code",
   "execution_count": 21,
   "id": "c4be3f9a-1d6c-498c-8528-1c11e7a2fcb1",
   "metadata": {},
   "outputs": [
    {
     "name": "stdout",
     "output_type": "stream",
     "text": [
      "8\n"
     ]
    }
   ],
   "source": [
    "def add(a, b):\n",
    "    return a + b\n",
    "\n",
    "result = add(3, 5)\n",
    "print(result)\n"
   ]
  },
  {
   "cell_type": "markdown",
   "id": "6504a391-8a79-4f92-a96a-3bcc79d3705b",
   "metadata": {},
   "source": [
    "### 3. Write a function is_even(n) that returns True if n is even, otherwise False.\n"
   ]
  },
  {
   "cell_type": "code",
   "execution_count": 26,
   "id": "66e7969e-ac79-43a7-b21f-a11e5674a1b4",
   "metadata": {},
   "outputs": [
    {
     "name": "stdout",
     "output_type": "stream",
     "text": [
      "True\n",
      "False\n"
     ]
    }
   ],
   "source": [
    "def is_even(n):\n",
    "    return n % 2 == 0\n",
    "\n",
    "print(is_even(4))  # This will print: True\n",
    "print(is_even(7))  # This will print: False"
   ]
  },
  {
   "cell_type": "markdown",
   "id": "306736b8-f655-44e9-870f-7e5d0a379bb1",
   "metadata": {},
   "source": [
    "### 4. Write a function factorial(n) that returns the factorial of n.\n"
   ]
  },
  {
   "cell_type": "code",
   "execution_count": 31,
   "id": "c5ce6a29-6a32-43c7-8a6a-511ffa694b3e",
   "metadata": {},
   "outputs": [
    {
     "name": "stdout",
     "output_type": "stream",
     "text": [
      "120\n"
     ]
    }
   ],
   "source": [
    "def factorial(n):\n",
    "    if n == 0 or n == 1:\n",
    "        return 1\n",
    "    else:\n",
    "        return n * factorial(n - 1)\n",
    "\n",
    "print(factorial(5))  \n"
   ]
  },
  {
   "cell_type": "markdown",
   "id": "d036a259-43a6-4cd4-9cf1-3cdc2e69cd18",
   "metadata": {},
   "source": [
    "### 5. Write a function reverse_string(s) that returns the reverse of the given string.\n"
   ]
  },
  {
   "cell_type": "code",
   "execution_count": 38,
   "id": "087c0709-45ef-4d62-8bfa-f3efa7a6353d",
   "metadata": {},
   "outputs": [
    {
     "name": "stdout",
     "output_type": "stream",
     "text": [
      "olleh\n"
     ]
    }
   ],
   "source": [
    "def reverse_string(s):\n",
    "    return s[::-1]\n",
    "\n",
    "print(reverse_string(\"hello\"))  \n",
    "\n"
   ]
  },
  {
   "cell_type": "markdown",
   "id": "e5175bc6-874e-493d-98a9-4b4c2f41ca98",
   "metadata": {},
   "source": [
    "### 6. Write a function count_vowels(s) that counts and returns the number of vowels in a string.\n"
   ]
  },
  {
   "cell_type": "code",
   "execution_count": 43,
   "id": "0af37e3f-c73e-48a6-b76c-9339ea03cf4a",
   "metadata": {},
   "outputs": [
    {
     "name": "stdout",
     "output_type": "stream",
     "text": [
      "2\n",
      "3\n"
     ]
    }
   ],
   "source": [
    "def count_vowels(s):\n",
    "    vowels = \"aeiouAEIOU\"\n",
    "    count = 0\n",
    "    for char in s:\n",
    "        if char in vowels:\n",
    "            count += 1\n",
    "    return count\n",
    "\n",
    "print(count_vowels(\"hello\"))  # This will print: 2\n",
    "print(count_vowels(\"programming\"))  # This will print: 3\n",
    "\n"
   ]
  },
  {
   "cell_type": "markdown",
   "id": "5629ec66-9292-425f-b3d0-32a92171d96e",
   "metadata": {},
   "source": [
    "### 7. Write a function find_max(lst) that returns the maximum element from a list.\n"
   ]
  },
  {
   "cell_type": "code",
   "execution_count": 46,
   "id": "468cdd90-b857-450a-acd9-63c277f06547",
   "metadata": {},
   "outputs": [
    {
     "name": "stdout",
     "output_type": "stream",
     "text": [
      "7\n",
      "20\n"
     ]
    }
   ],
   "source": [
    "def find_max(lst):\n",
    "    if len(lst) == 0:\n",
    "        return None  # Return None if the list is empty\n",
    "    max_element = lst[0]  # Assume the first element is the max\n",
    "    for num in lst:\n",
    "        if num > max_element:\n",
    "            max_element = num\n",
    "    return max_element\n",
    "print(find_max([1, 3, 7, 2, 5])) \n",
    "print(find_max([10, 5, 20, 15]))  \n"
   ]
  },
  {
   "cell_type": "markdown",
   "id": "bb1b0b5e-5ac1-4bd5-9eb1-c13f48603294",
   "metadata": {},
   "source": [
    "### 8. Write a function fibonacci(n) that returns the first n numbers in the Fibonacci sequence as a list.\n"
   ]
  },
  {
   "cell_type": "code",
   "execution_count": 49,
   "id": "86e994cd-adfa-416a-9df3-8d5c7687d663",
   "metadata": {},
   "outputs": [
    {
     "name": "stdout",
     "output_type": "stream",
     "text": [
      "[0, 1, 1, 2, 3]\n",
      "[0, 1, 1, 2, 3, 5, 8, 13]\n"
     ]
    }
   ],
   "source": [
    "def fibonacci(n):\n",
    "    if n <= 0:\n",
    "        return []  # Return an empty list if n is less than or equal to 0\n",
    "    elif n == 1:\n",
    "        return [0]  # The first Fibonacci number is 0\n",
    "    elif n == 2:\n",
    "        return [0, 1]  # The first two Fibonacci numbers are 0 and 1\n",
    "    \n",
    "    fib_seq = [0, 1]  # Starting list with the first two Fibonacci numbers\n",
    "    for i in range(2, n):\n",
    "        fib_seq.append(fib_seq[-1] + fib_seq[-2])  # Add the next Fibonacci number\n",
    "    return fib_seq\n",
    "print(fibonacci(5))  \n",
    "print(fibonacci(8)) \n"
   ]
  },
  {
   "cell_type": "markdown",
   "id": "f466b829-b2d1-4a57-8f7f-f49f33251c9b",
   "metadata": {},
   "source": [
    "### 9. Write a function is_palindrome(s) that checks if a string is a palindrome (reads the same forward and backward).\n"
   ]
  },
  {
   "cell_type": "code",
   "execution_count": 52,
   "id": "fccaa9c5-6813-4a99-816e-5dfa201d7e7f",
   "metadata": {},
   "outputs": [
    {
     "name": "stdout",
     "output_type": "stream",
     "text": [
      "True\n",
      "False\n",
      "True\n"
     ]
    }
   ],
   "source": [
    "def is_palindrome(s):\n",
    "    # Remove any spaces and convert to lowercase for case-insensitive comparison\n",
    "    s = s.replace(\" \", \"\").lower()\n",
    "    return s == s[::-1]\n",
    "print(is_palindrome(\"racecar\"))  \n",
    "print(is_palindrome(\"hello\"))   \n",
    "print(is_palindrome(\"A man a plan a canal Panama\"))  \n"
   ]
  },
  {
   "cell_type": "markdown",
   "id": "1aa390a3-dab1-4a0a-b78d-4d7364e334aa",
   "metadata": {},
   "source": [
    "### 10. Write a function calculate_area(shape, value1, value2=0) that calculates the area of a shape:\n",
    "If shape is \"circle\", return 3.14 * value1 * value1.\n",
    "If shape is \"rectangle\", return value1 * value2.\n",
    "If shape is \"square\", return value1 * value1"
   ]
  },
  {
   "cell_type": "code",
   "execution_count": 55,
   "id": "af9d355d-e12a-4e10-98dd-3b24d6f42c49",
   "metadata": {},
   "outputs": [
    {
     "name": "stdout",
     "output_type": "stream",
     "text": [
      "78.5\n",
      "50\n",
      "16\n"
     ]
    }
   ],
   "source": [
    "def calculate_area(shape, value1, value2=0):\n",
    "    if shape.lower() == \"circle\":\n",
    "        return 3.14 * value1 * value1\n",
    "    elif shape.lower() == \"rectangle\":\n",
    "        return value1 * value2\n",
    "    elif shape.lower() == \"square\":\n",
    "        return value1 * value1\n",
    "    else:\n",
    "        return \"Unknown shape\"\n",
    "print(calculate_area(\"circle\", 5))  \n",
    "print(calculate_area(\"rectangle\", 5, 10))  \n",
    "print(calculate_area(\"square\", 4))  \n"
   ]
  },
  {
   "cell_type": "markdown",
   "id": "44a6ce40-ca8e-435d-909f-18c528fcc8f7",
   "metadata": {},
   "source": [
    "### 11. Write a function word_count(sentence) that returns a dictionary where keys are words, and values are their frequencies.\n"
   ]
  },
  {
   "cell_type": "code",
   "execution_count": 58,
   "id": "cb037d64-5026-43a4-a9d8-add1d442caa3",
   "metadata": {},
   "outputs": [
    {
     "name": "stdout",
     "output_type": "stream",
     "text": [
      "{'hello': 2, 'world': 1}\n",
      "{'this': 2, 'is': 2, 'a': 2, 'test': 1, 'sentence': 1, 'test.': 1}\n"
     ]
    }
   ],
   "source": [
    "def word_count(sentence):\n",
    "    # Convert the sentence to lowercase and split it into words\n",
    "    words = sentence.lower().split()\n",
    "    \n",
    "    # Initialize an empty dictionary to store word frequencies\n",
    "    word_freq = {}\n",
    "    \n",
    "    # Loop through each word in the list\n",
    "    for word in words:\n",
    "        if word in word_freq:\n",
    "            word_freq[word] += 1  # If word exists in dictionary, increment its count\n",
    "        else:\n",
    "            word_freq[word] = 1   # If word doesn't exist, add it with count 1\n",
    "            \n",
    "    return word_freq\n",
    "print(word_count(\"Hello world hello\"))  \n",
    "print(word_count(\"This is a test sentence this is a test.\"))  "
   ]
  },
  {
   "cell_type": "markdown",
   "id": "2d5843d1-e7f0-45c0-802f-83486c188baf",
   "metadata": {},
   "source": [
    "### 12. Write a function generate_password(length) that returns a random password of the given length containing letters, digits, and special characters.\n"
   ]
  },
  {
   "cell_type": "code",
   "execution_count": 61,
   "id": "b40f3602-e02a-4be1-a5a4-38105f44fa10",
   "metadata": {},
   "outputs": [
    {
     "name": "stdout",
     "output_type": "stream",
     "text": [
      "u>|,X]U\"bv=P\n",
      "o21.\"m-:\n"
     ]
    }
   ],
   "source": [
    "import random\n",
    "import string\n",
    "\n",
    "def generate_password(length):\n",
    "    if length < 6:  # Ensure a reasonable minimum length for security\n",
    "        return \"Password length should be at least 6 characters.\"\n",
    "    \n",
    "    # Define the characters to choose from\n",
    "    all_characters = string.ascii_letters + string.digits + string.punctuation\n",
    "    \n",
    "    # Randomly select characters from the pool and join them into a password\n",
    "    password = ''.join(random.choice(all_characters) for _ in range(length))\n",
    "    \n",
    "    return password\n",
    "print(generate_password(12))  \n",
    "print(generate_password(8))   \n"
   ]
  },
  {
   "cell_type": "code",
   "execution_count": null,
   "id": "93392277-fa9b-48af-b2de-19d60b0abc6a",
   "metadata": {},
   "outputs": [],
   "source": []
  }
 ],
 "metadata": {
  "kernelspec": {
   "display_name": "Python [conda env:base] *",
   "language": "python",
   "name": "conda-base-py"
  },
  "language_info": {
   "codemirror_mode": {
    "name": "ipython",
    "version": 3
   },
   "file_extension": ".py",
   "mimetype": "text/x-python",
   "name": "python",
   "nbconvert_exporter": "python",
   "pygments_lexer": "ipython3",
   "version": "3.12.7"
  }
 },
 "nbformat": 4,
 "nbformat_minor": 5
}
